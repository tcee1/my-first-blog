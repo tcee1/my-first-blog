{
  "nbformat": 4,
  "nbformat_minor": 0,
  "metadata": {
    "colab": {
      "provenance": [],
      "authorship_tag": "ABX9TyO3GR6ibCG8UHl4N5k90kpQ",
      "include_colab_link": true
    },
    "kernelspec": {
      "name": "python3",
      "display_name": "Python 3"
    },
    "language_info": {
      "name": "python"
    }
  },
  "cells": [
    {
      "cell_type": "markdown",
      "metadata": {
        "id": "view-in-github",
        "colab_type": "text"
      },
      "source": [
        "<a href=\"https://colab.research.google.com/github/tcee1/my-first-blog/blob/master/AI_%26_DS_1.ipynb\" target=\"_parent\"><img src=\"https://colab.research.google.com/assets/colab-badge.svg\" alt=\"Open In Colab\"/></a>"
      ]
    },
    {
      "cell_type": "markdown",
      "source": [
        "Importing Libraries and Dataset"
      ],
      "metadata": {
        "id": "6sNl3sMUQ_tz"
      }
    },
    {
      "cell_type": "code",
      "source": [
        "from google.colab import drive\n",
        "drive.mount('/content/drive')"
      ],
      "metadata": {
        "id": "Jz240wb_RvMn",
        "colab": {
          "base_uri": "https://localhost:8080/"
        },
        "outputId": "a0b3a891-24a9-4cce-967b-1b4b68dfea7b"
      },
      "execution_count": 1,
      "outputs": [
        {
          "output_type": "stream",
          "name": "stdout",
          "text": [
            "Mounted at /content/drive\n"
          ]
        }
      ]
    },
    {
      "cell_type": "code",
      "source": [
        "import pandas as pd\n",
        "import seaborn as sns\n",
        "import numpy as np\n",
        "from sklearn.metrics import mean_squared_error, r2_score, mean_absolute_error\n",
        "from sklearn import metrics\n",
        "import warnings"
      ],
      "metadata": {
        "id": "dUTIJSjQR9TD"
      },
      "execution_count": 2,
      "outputs": []
    },
    {
      "cell_type": "code",
      "source": [
        "import matplotlib.pyplot as plt\n",
        "plt.style.use('ggplot')"
      ],
      "metadata": {
        "id": "l5XIztylSCp0"
      },
      "execution_count": 3,
      "outputs": []
    },
    {
      "cell_type": "code",
      "source": [
        "def make_plot(truth, prediction):\n",
        "  plt.plot(truth, color=\"red\", label=\"truth\")\n",
        "  plt.plot(prediction, color=\"blue\", label=\"predicted\")\n",
        "  plt.legend()\n",
        "  plt.grid()\n",
        "  plt.title(\"Comparing truth and predicted regression values\")\n",
        "  plt.tight_layout()\n",
        "  plt.show()"
      ],
      "metadata": {
        "id": "E8eoP28ySGhG"
      },
      "execution_count": 43,
      "outputs": []
    },
    {
      "cell_type": "code",
      "source": [
        "#importing training dataset\n",
        "train = pd.read_csv('/content/drive/MyDrive/Colab Notebooks/msc_training_dataset.csv')"
      ],
      "metadata": {
        "id": "vp1MnJ8ISNKj"
      },
      "execution_count": 5,
      "outputs": []
    },
    {
      "cell_type": "code",
      "source": [
        "#importing testing dataset\n",
        "test = pd.read_csv('/content/drive/MyDrive/Colab Notebooks/msc_testing_dataset.csv')"
      ],
      "metadata": {
        "id": "Y8m1NjG-SWUr"
      },
      "execution_count": 6,
      "outputs": []
    },
    {
      "cell_type": "markdown",
      "source": [
        "###Data Quality Check"
      ],
      "metadata": {
        "id": "LAqWFQjnSiFO"
      }
    },
    {
      "cell_type": "code",
      "source": [
        "#checking the first five rows of the train data\n",
        "train.head()"
      ],
      "metadata": {
        "colab": {
          "base_uri": "https://localhost:8080/",
          "height": 206
        },
        "id": "XCIVYyX_So6k",
        "outputId": "ce1bf4aa-712b-4fd8-be99-7a05df69085f"
      },
      "execution_count": 7,
      "outputs": [
        {
          "output_type": "execute_result",
          "data": {
            "text/plain": [
              "   room  bathroom  kitchen  french_door  backyard  furnished  green_paint  \\\n",
              "0     3         1        2            1         1          0            1   \n",
              "1     5         2        2            2         1          0            0   \n",
              "2     5         2        2            2         1          0            0   \n",
              "3     1         2        1            2         0          0            0   \n",
              "4     2         1        2            3         1          1            0   \n",
              "\n",
              "   solar_power  woodfloor  qlm_security  club_access  price  \n",
              "0            0          0             1            1   6835  \n",
              "1            0          0             1            1   9005  \n",
              "2            0          0             1            1   9005  \n",
              "3            0          1             1            0   5105  \n",
              "4            0          1             1            0   9105  "
            ],
            "text/html": [
              "\n",
              "  <div id=\"df-637e511b-da86-4109-868b-37737d4b8ac5\">\n",
              "    <div class=\"colab-df-container\">\n",
              "      <div>\n",
              "<style scoped>\n",
              "    .dataframe tbody tr th:only-of-type {\n",
              "        vertical-align: middle;\n",
              "    }\n",
              "\n",
              "    .dataframe tbody tr th {\n",
              "        vertical-align: top;\n",
              "    }\n",
              "\n",
              "    .dataframe thead th {\n",
              "        text-align: right;\n",
              "    }\n",
              "</style>\n",
              "<table border=\"1\" class=\"dataframe\">\n",
              "  <thead>\n",
              "    <tr style=\"text-align: right;\">\n",
              "      <th></th>\n",
              "      <th>room</th>\n",
              "      <th>bathroom</th>\n",
              "      <th>kitchen</th>\n",
              "      <th>french_door</th>\n",
              "      <th>backyard</th>\n",
              "      <th>furnished</th>\n",
              "      <th>green_paint</th>\n",
              "      <th>solar_power</th>\n",
              "      <th>woodfloor</th>\n",
              "      <th>qlm_security</th>\n",
              "      <th>club_access</th>\n",
              "      <th>price</th>\n",
              "    </tr>\n",
              "  </thead>\n",
              "  <tbody>\n",
              "    <tr>\n",
              "      <th>0</th>\n",
              "      <td>3</td>\n",
              "      <td>1</td>\n",
              "      <td>2</td>\n",
              "      <td>1</td>\n",
              "      <td>1</td>\n",
              "      <td>0</td>\n",
              "      <td>1</td>\n",
              "      <td>0</td>\n",
              "      <td>0</td>\n",
              "      <td>1</td>\n",
              "      <td>1</td>\n",
              "      <td>6835</td>\n",
              "    </tr>\n",
              "    <tr>\n",
              "      <th>1</th>\n",
              "      <td>5</td>\n",
              "      <td>2</td>\n",
              "      <td>2</td>\n",
              "      <td>2</td>\n",
              "      <td>1</td>\n",
              "      <td>0</td>\n",
              "      <td>0</td>\n",
              "      <td>0</td>\n",
              "      <td>0</td>\n",
              "      <td>1</td>\n",
              "      <td>1</td>\n",
              "      <td>9005</td>\n",
              "    </tr>\n",
              "    <tr>\n",
              "      <th>2</th>\n",
              "      <td>5</td>\n",
              "      <td>2</td>\n",
              "      <td>2</td>\n",
              "      <td>2</td>\n",
              "      <td>1</td>\n",
              "      <td>0</td>\n",
              "      <td>0</td>\n",
              "      <td>0</td>\n",
              "      <td>0</td>\n",
              "      <td>1</td>\n",
              "      <td>1</td>\n",
              "      <td>9005</td>\n",
              "    </tr>\n",
              "    <tr>\n",
              "      <th>3</th>\n",
              "      <td>1</td>\n",
              "      <td>2</td>\n",
              "      <td>1</td>\n",
              "      <td>2</td>\n",
              "      <td>0</td>\n",
              "      <td>0</td>\n",
              "      <td>0</td>\n",
              "      <td>0</td>\n",
              "      <td>1</td>\n",
              "      <td>1</td>\n",
              "      <td>0</td>\n",
              "      <td>5105</td>\n",
              "    </tr>\n",
              "    <tr>\n",
              "      <th>4</th>\n",
              "      <td>2</td>\n",
              "      <td>1</td>\n",
              "      <td>2</td>\n",
              "      <td>3</td>\n",
              "      <td>1</td>\n",
              "      <td>1</td>\n",
              "      <td>0</td>\n",
              "      <td>0</td>\n",
              "      <td>1</td>\n",
              "      <td>1</td>\n",
              "      <td>0</td>\n",
              "      <td>9105</td>\n",
              "    </tr>\n",
              "  </tbody>\n",
              "</table>\n",
              "</div>\n",
              "      <button class=\"colab-df-convert\" onclick=\"convertToInteractive('df-637e511b-da86-4109-868b-37737d4b8ac5')\"\n",
              "              title=\"Convert this dataframe to an interactive table.\"\n",
              "              style=\"display:none;\">\n",
              "        \n",
              "  <svg xmlns=\"http://www.w3.org/2000/svg\" height=\"24px\"viewBox=\"0 0 24 24\"\n",
              "       width=\"24px\">\n",
              "    <path d=\"M0 0h24v24H0V0z\" fill=\"none\"/>\n",
              "    <path d=\"M18.56 5.44l.94 2.06.94-2.06 2.06-.94-2.06-.94-.94-2.06-.94 2.06-2.06.94zm-11 1L8.5 8.5l.94-2.06 2.06-.94-2.06-.94L8.5 2.5l-.94 2.06-2.06.94zm10 10l.94 2.06.94-2.06 2.06-.94-2.06-.94-.94-2.06-.94 2.06-2.06.94z\"/><path d=\"M17.41 7.96l-1.37-1.37c-.4-.4-.92-.59-1.43-.59-.52 0-1.04.2-1.43.59L10.3 9.45l-7.72 7.72c-.78.78-.78 2.05 0 2.83L4 21.41c.39.39.9.59 1.41.59.51 0 1.02-.2 1.41-.59l7.78-7.78 2.81-2.81c.8-.78.8-2.07 0-2.86zM5.41 20L4 18.59l7.72-7.72 1.47 1.35L5.41 20z\"/>\n",
              "  </svg>\n",
              "      </button>\n",
              "      \n",
              "  <style>\n",
              "    .colab-df-container {\n",
              "      display:flex;\n",
              "      flex-wrap:wrap;\n",
              "      gap: 12px;\n",
              "    }\n",
              "\n",
              "    .colab-df-convert {\n",
              "      background-color: #E8F0FE;\n",
              "      border: none;\n",
              "      border-radius: 50%;\n",
              "      cursor: pointer;\n",
              "      display: none;\n",
              "      fill: #1967D2;\n",
              "      height: 32px;\n",
              "      padding: 0 0 0 0;\n",
              "      width: 32px;\n",
              "    }\n",
              "\n",
              "    .colab-df-convert:hover {\n",
              "      background-color: #E2EBFA;\n",
              "      box-shadow: 0px 1px 2px rgba(60, 64, 67, 0.3), 0px 1px 3px 1px rgba(60, 64, 67, 0.15);\n",
              "      fill: #174EA6;\n",
              "    }\n",
              "\n",
              "    [theme=dark] .colab-df-convert {\n",
              "      background-color: #3B4455;\n",
              "      fill: #D2E3FC;\n",
              "    }\n",
              "\n",
              "    [theme=dark] .colab-df-convert:hover {\n",
              "      background-color: #434B5C;\n",
              "      box-shadow: 0px 1px 3px 1px rgba(0, 0, 0, 0.15);\n",
              "      filter: drop-shadow(0px 1px 2px rgba(0, 0, 0, 0.3));\n",
              "      fill: #FFFFFF;\n",
              "    }\n",
              "  </style>\n",
              "\n",
              "      <script>\n",
              "        const buttonEl =\n",
              "          document.querySelector('#df-637e511b-da86-4109-868b-37737d4b8ac5 button.colab-df-convert');\n",
              "        buttonEl.style.display =\n",
              "          google.colab.kernel.accessAllowed ? 'block' : 'none';\n",
              "\n",
              "        async function convertToInteractive(key) {\n",
              "          const element = document.querySelector('#df-637e511b-da86-4109-868b-37737d4b8ac5');\n",
              "          const dataTable =\n",
              "            await google.colab.kernel.invokeFunction('convertToInteractive',\n",
              "                                                     [key], {});\n",
              "          if (!dataTable) return;\n",
              "\n",
              "          const docLinkHtml = 'Like what you see? Visit the ' +\n",
              "            '<a target=\"_blank\" href=https://colab.research.google.com/notebooks/data_table.ipynb>data table notebook</a>'\n",
              "            + ' to learn more about interactive tables.';\n",
              "          element.innerHTML = '';\n",
              "          dataTable['output_type'] = 'display_data';\n",
              "          await google.colab.output.renderOutput(dataTable, element);\n",
              "          const docLink = document.createElement('div');\n",
              "          docLink.innerHTML = docLinkHtml;\n",
              "          element.appendChild(docLink);\n",
              "        }\n",
              "      </script>\n",
              "    </div>\n",
              "  </div>\n",
              "  "
            ]
          },
          "metadata": {},
          "execution_count": 7
        }
      ]
    },
    {
      "cell_type": "code",
      "source": [
        "#checking the first five rows of the test data\n",
        "test.head()"
      ],
      "metadata": {
        "colab": {
          "base_uri": "https://localhost:8080/",
          "height": 206
        },
        "id": "fahsGMRMTB5U",
        "outputId": "a88f279e-7b55-4695-f9a7-81e7ff2c8e9d"
      },
      "execution_count": 8,
      "outputs": [
        {
          "output_type": "execute_result",
          "data": {
            "text/plain": [
              "   room  bathroom  kitchen  french_door  backyard  furnished  green_paint  \\\n",
              "0     1         1        1            3         0          0            1   \n",
              "1     5         1        1            2         0          0            0   \n",
              "2     5         1        1            3         0          0            0   \n",
              "3     4         2        2            1         0          1            1   \n",
              "4     5         2        1            1         0          1            1   \n",
              "\n",
              "   solar_power  woodfloor  qlm_security  club_access  price  \n",
              "0            1          0             1            0   5068  \n",
              "1            0          0             1            1   7658  \n",
              "2            1          1             1            1  11318  \n",
              "3            0          0             1            0   8858  \n",
              "4            1          0             0            1  11178  "
            ],
            "text/html": [
              "\n",
              "  <div id=\"df-78d126c4-bab6-42e5-9037-bacad34a4dcb\">\n",
              "    <div class=\"colab-df-container\">\n",
              "      <div>\n",
              "<style scoped>\n",
              "    .dataframe tbody tr th:only-of-type {\n",
              "        vertical-align: middle;\n",
              "    }\n",
              "\n",
              "    .dataframe tbody tr th {\n",
              "        vertical-align: top;\n",
              "    }\n",
              "\n",
              "    .dataframe thead th {\n",
              "        text-align: right;\n",
              "    }\n",
              "</style>\n",
              "<table border=\"1\" class=\"dataframe\">\n",
              "  <thead>\n",
              "    <tr style=\"text-align: right;\">\n",
              "      <th></th>\n",
              "      <th>room</th>\n",
              "      <th>bathroom</th>\n",
              "      <th>kitchen</th>\n",
              "      <th>french_door</th>\n",
              "      <th>backyard</th>\n",
              "      <th>furnished</th>\n",
              "      <th>green_paint</th>\n",
              "      <th>solar_power</th>\n",
              "      <th>woodfloor</th>\n",
              "      <th>qlm_security</th>\n",
              "      <th>club_access</th>\n",
              "      <th>price</th>\n",
              "    </tr>\n",
              "  </thead>\n",
              "  <tbody>\n",
              "    <tr>\n",
              "      <th>0</th>\n",
              "      <td>1</td>\n",
              "      <td>1</td>\n",
              "      <td>1</td>\n",
              "      <td>3</td>\n",
              "      <td>0</td>\n",
              "      <td>0</td>\n",
              "      <td>1</td>\n",
              "      <td>1</td>\n",
              "      <td>0</td>\n",
              "      <td>1</td>\n",
              "      <td>0</td>\n",
              "      <td>5068</td>\n",
              "    </tr>\n",
              "    <tr>\n",
              "      <th>1</th>\n",
              "      <td>5</td>\n",
              "      <td>1</td>\n",
              "      <td>1</td>\n",
              "      <td>2</td>\n",
              "      <td>0</td>\n",
              "      <td>0</td>\n",
              "      <td>0</td>\n",
              "      <td>0</td>\n",
              "      <td>0</td>\n",
              "      <td>1</td>\n",
              "      <td>1</td>\n",
              "      <td>7658</td>\n",
              "    </tr>\n",
              "    <tr>\n",
              "      <th>2</th>\n",
              "      <td>5</td>\n",
              "      <td>1</td>\n",
              "      <td>1</td>\n",
              "      <td>3</td>\n",
              "      <td>0</td>\n",
              "      <td>0</td>\n",
              "      <td>0</td>\n",
              "      <td>1</td>\n",
              "      <td>1</td>\n",
              "      <td>1</td>\n",
              "      <td>1</td>\n",
              "      <td>11318</td>\n",
              "    </tr>\n",
              "    <tr>\n",
              "      <th>3</th>\n",
              "      <td>4</td>\n",
              "      <td>2</td>\n",
              "      <td>2</td>\n",
              "      <td>1</td>\n",
              "      <td>0</td>\n",
              "      <td>1</td>\n",
              "      <td>1</td>\n",
              "      <td>0</td>\n",
              "      <td>0</td>\n",
              "      <td>1</td>\n",
              "      <td>0</td>\n",
              "      <td>8858</td>\n",
              "    </tr>\n",
              "    <tr>\n",
              "      <th>4</th>\n",
              "      <td>5</td>\n",
              "      <td>2</td>\n",
              "      <td>1</td>\n",
              "      <td>1</td>\n",
              "      <td>0</td>\n",
              "      <td>1</td>\n",
              "      <td>1</td>\n",
              "      <td>1</td>\n",
              "      <td>0</td>\n",
              "      <td>0</td>\n",
              "      <td>1</td>\n",
              "      <td>11178</td>\n",
              "    </tr>\n",
              "  </tbody>\n",
              "</table>\n",
              "</div>\n",
              "      <button class=\"colab-df-convert\" onclick=\"convertToInteractive('df-78d126c4-bab6-42e5-9037-bacad34a4dcb')\"\n",
              "              title=\"Convert this dataframe to an interactive table.\"\n",
              "              style=\"display:none;\">\n",
              "        \n",
              "  <svg xmlns=\"http://www.w3.org/2000/svg\" height=\"24px\"viewBox=\"0 0 24 24\"\n",
              "       width=\"24px\">\n",
              "    <path d=\"M0 0h24v24H0V0z\" fill=\"none\"/>\n",
              "    <path d=\"M18.56 5.44l.94 2.06.94-2.06 2.06-.94-2.06-.94-.94-2.06-.94 2.06-2.06.94zm-11 1L8.5 8.5l.94-2.06 2.06-.94-2.06-.94L8.5 2.5l-.94 2.06-2.06.94zm10 10l.94 2.06.94-2.06 2.06-.94-2.06-.94-.94-2.06-.94 2.06-2.06.94z\"/><path d=\"M17.41 7.96l-1.37-1.37c-.4-.4-.92-.59-1.43-.59-.52 0-1.04.2-1.43.59L10.3 9.45l-7.72 7.72c-.78.78-.78 2.05 0 2.83L4 21.41c.39.39.9.59 1.41.59.51 0 1.02-.2 1.41-.59l7.78-7.78 2.81-2.81c.8-.78.8-2.07 0-2.86zM5.41 20L4 18.59l7.72-7.72 1.47 1.35L5.41 20z\"/>\n",
              "  </svg>\n",
              "      </button>\n",
              "      \n",
              "  <style>\n",
              "    .colab-df-container {\n",
              "      display:flex;\n",
              "      flex-wrap:wrap;\n",
              "      gap: 12px;\n",
              "    }\n",
              "\n",
              "    .colab-df-convert {\n",
              "      background-color: #E8F0FE;\n",
              "      border: none;\n",
              "      border-radius: 50%;\n",
              "      cursor: pointer;\n",
              "      display: none;\n",
              "      fill: #1967D2;\n",
              "      height: 32px;\n",
              "      padding: 0 0 0 0;\n",
              "      width: 32px;\n",
              "    }\n",
              "\n",
              "    .colab-df-convert:hover {\n",
              "      background-color: #E2EBFA;\n",
              "      box-shadow: 0px 1px 2px rgba(60, 64, 67, 0.3), 0px 1px 3px 1px rgba(60, 64, 67, 0.15);\n",
              "      fill: #174EA6;\n",
              "    }\n",
              "\n",
              "    [theme=dark] .colab-df-convert {\n",
              "      background-color: #3B4455;\n",
              "      fill: #D2E3FC;\n",
              "    }\n",
              "\n",
              "    [theme=dark] .colab-df-convert:hover {\n",
              "      background-color: #434B5C;\n",
              "      box-shadow: 0px 1px 3px 1px rgba(0, 0, 0, 0.15);\n",
              "      filter: drop-shadow(0px 1px 2px rgba(0, 0, 0, 0.3));\n",
              "      fill: #FFFFFF;\n",
              "    }\n",
              "  </style>\n",
              "\n",
              "      <script>\n",
              "        const buttonEl =\n",
              "          document.querySelector('#df-78d126c4-bab6-42e5-9037-bacad34a4dcb button.colab-df-convert');\n",
              "        buttonEl.style.display =\n",
              "          google.colab.kernel.accessAllowed ? 'block' : 'none';\n",
              "\n",
              "        async function convertToInteractive(key) {\n",
              "          const element = document.querySelector('#df-78d126c4-bab6-42e5-9037-bacad34a4dcb');\n",
              "          const dataTable =\n",
              "            await google.colab.kernel.invokeFunction('convertToInteractive',\n",
              "                                                     [key], {});\n",
              "          if (!dataTable) return;\n",
              "\n",
              "          const docLinkHtml = 'Like what you see? Visit the ' +\n",
              "            '<a target=\"_blank\" href=https://colab.research.google.com/notebooks/data_table.ipynb>data table notebook</a>'\n",
              "            + ' to learn more about interactive tables.';\n",
              "          element.innerHTML = '';\n",
              "          dataTable['output_type'] = 'display_data';\n",
              "          await google.colab.output.renderOutput(dataTable, element);\n",
              "          const docLink = document.createElement('div');\n",
              "          docLink.innerHTML = docLinkHtml;\n",
              "          element.appendChild(docLink);\n",
              "        }\n",
              "      </script>\n",
              "    </div>\n",
              "  </div>\n",
              "  "
            ]
          },
          "metadata": {},
          "execution_count": 8
        }
      ]
    },
    {
      "cell_type": "code",
      "source": [
        "#checking the numbers of rows and columns in the train dataset\n",
        "train.shape"
      ],
      "metadata": {
        "colab": {
          "base_uri": "https://localhost:8080/"
        },
        "id": "pNWV9LYsTivZ",
        "outputId": "e3d7180b-22dd-488d-e016-8437bd6f47fc"
      },
      "execution_count": 9,
      "outputs": [
        {
          "output_type": "execute_result",
          "data": {
            "text/plain": [
              "(3000, 12)"
            ]
          },
          "metadata": {},
          "execution_count": 9
        }
      ]
    },
    {
      "cell_type": "markdown",
      "source": [
        "\n",
        "\n",
        "*   there are 3000 rows in the train data\n",
        "*   there are 12 columns in the train data\n",
        "\n"
      ],
      "metadata": {
        "id": "QhcCobQeUBor"
      }
    },
    {
      "cell_type": "code",
      "source": [
        "#checking the numbers of rows and columns in the test dataset\n",
        "test.shape"
      ],
      "metadata": {
        "colab": {
          "base_uri": "https://localhost:8080/"
        },
        "id": "Qs0M9x-0VPij",
        "outputId": "51925686-149f-4bdd-ffe2-78f27e27131c"
      },
      "execution_count": 10,
      "outputs": [
        {
          "output_type": "execute_result",
          "data": {
            "text/plain": [
              "(999, 12)"
            ]
          },
          "metadata": {},
          "execution_count": 10
        }
      ]
    },
    {
      "cell_type": "markdown",
      "source": [
        "\n",
        "\n",
        "*   there are 922 rows in the test data\n",
        "*   there are 12 columns in the test data\n",
        "\n"
      ],
      "metadata": {
        "id": "rScN1su1VZjd"
      }
    },
    {
      "cell_type": "code",
      "source": [
        "#obtaining the number of duplicated datapoints in the train dataset\n",
        "train.duplicated().sum()"
      ],
      "metadata": {
        "colab": {
          "base_uri": "https://localhost:8080/"
        },
        "id": "i64MJbIRUOSA",
        "outputId": "7c6d1b99-fc19-4fa0-851e-584bad166885"
      },
      "execution_count": 11,
      "outputs": [
        {
          "output_type": "execute_result",
          "data": {
            "text/plain": [
              "488"
            ]
          },
          "metadata": {},
          "execution_count": 11
        }
      ]
    },
    {
      "cell_type": "markdown",
      "source": [
        "\n",
        "\n",
        "*   there are 488 datapoints that are duplicates\n",
        "\n",
        "\n"
      ],
      "metadata": {
        "id": "2l1d0AlNUlSO"
      }
    },
    {
      "cell_type": "code",
      "source": [
        "#obtaining the number of duplicated datapoints in the test dataset\n",
        "test.duplicated().sum()"
      ],
      "metadata": {
        "colab": {
          "base_uri": "https://localhost:8080/"
        },
        "id": "mu4sYJ6UWJh1",
        "outputId": "d7a8e986-998c-435f-d29d-467175e20bbe"
      },
      "execution_count": 12,
      "outputs": [
        {
          "output_type": "execute_result",
          "data": {
            "text/plain": [
              "70"
            ]
          },
          "metadata": {},
          "execution_count": 12
        }
      ]
    },
    {
      "cell_type": "markdown",
      "source": [
        "\n",
        "\n",
        "*   there are 70 datapoints that are duplicates\n",
        "\n",
        "\n"
      ],
      "metadata": {
        "id": "njTnYOzvWM-x"
      }
    },
    {
      "cell_type": "code",
      "source": [
        "#obtaining the numbers of missing values in the train dataset\n",
        "train.isnull().sum()"
      ],
      "metadata": {
        "colab": {
          "base_uri": "https://localhost:8080/"
        },
        "id": "T_aVD-6dUsf9",
        "outputId": "108d8c82-c8fb-4891-8a4e-c2eda3168ec1"
      },
      "execution_count": 13,
      "outputs": [
        {
          "output_type": "execute_result",
          "data": {
            "text/plain": [
              "room            0\n",
              "bathroom        0\n",
              "kitchen         0\n",
              "french_door     0\n",
              "backyard        0\n",
              "furnished       0\n",
              "green_paint     0\n",
              "solar_power     0\n",
              "woodfloor       0\n",
              "qlm_security    0\n",
              "club_access     0\n",
              "price           0\n",
              "dtype: int64"
            ]
          },
          "metadata": {},
          "execution_count": 13
        }
      ]
    },
    {
      "cell_type": "markdown",
      "source": [
        "\n",
        "\n",
        "*   There are no missing values in the dataset\n",
        "\n",
        "\n"
      ],
      "metadata": {
        "id": "q14GiiOjUzPq"
      }
    },
    {
      "cell_type": "code",
      "source": [
        "#obtaining the numbers of missing values in the test dataset\n",
        "test.isnull().sum()"
      ],
      "metadata": {
        "colab": {
          "base_uri": "https://localhost:8080/"
        },
        "id": "6UYsVQkMU8Gj",
        "outputId": "6eadda46-f42c-4305-a6c3-d66f3bcf0118"
      },
      "execution_count": 14,
      "outputs": [
        {
          "output_type": "execute_result",
          "data": {
            "text/plain": [
              "room            0\n",
              "bathroom        0\n",
              "kitchen         0\n",
              "french_door     0\n",
              "backyard        0\n",
              "furnished       0\n",
              "green_paint     0\n",
              "solar_power     0\n",
              "woodfloor       0\n",
              "qlm_security    0\n",
              "club_access     0\n",
              "price           0\n",
              "dtype: int64"
            ]
          },
          "metadata": {},
          "execution_count": 14
        }
      ]
    },
    {
      "cell_type": "markdown",
      "source": [
        "\n",
        "\n",
        "*   There are no missing values in the dataset\n",
        "\n",
        "\n"
      ],
      "metadata": {
        "id": "qRgXnSmFWrn-"
      }
    },
    {
      "cell_type": "code",
      "source": [
        "train.describe()"
      ],
      "metadata": {
        "colab": {
          "base_uri": "https://localhost:8080/",
          "height": 300
        },
        "id": "xsjYKIlPW4FN",
        "outputId": "852e44fb-fe93-4392-ec5d-7aa4bae4a5bc"
      },
      "execution_count": 15,
      "outputs": [
        {
          "output_type": "execute_result",
          "data": {
            "text/plain": [
              "              room     bathroom      kitchen  french_door     backyard  \\\n",
              "count  3000.000000  3000.000000  3000.000000  3000.000000  3000.000000   \n",
              "mean      2.990000     1.489000     1.522000     1.998333     0.490333   \n",
              "std       1.424281     0.499962     0.499599     0.813153     0.499990   \n",
              "min       1.000000     1.000000     1.000000     1.000000     0.000000   \n",
              "25%       2.000000     1.000000     1.000000     1.000000     0.000000   \n",
              "50%       3.000000     1.000000     2.000000     2.000000     0.000000   \n",
              "75%       4.000000     2.000000     2.000000     3.000000     1.000000   \n",
              "max       5.000000     2.000000     2.000000     3.000000     1.000000   \n",
              "\n",
              "         furnished  green_paint  solar_power    woodfloor  qlm_security  \\\n",
              "count  3000.000000  3000.000000  3000.000000  3000.000000   3000.000000   \n",
              "mean      0.488667     0.485000     0.495667     0.512333      0.480667   \n",
              "std       0.499955     0.499858     0.500065     0.499931      0.499709   \n",
              "min       0.000000     0.000000     0.000000     0.000000      0.000000   \n",
              "25%       0.000000     0.000000     0.000000     0.000000      0.000000   \n",
              "50%       0.000000     0.000000     0.000000     1.000000      0.000000   \n",
              "75%       1.000000     1.000000     1.000000     1.000000      1.000000   \n",
              "max       1.000000     1.000000     1.000000     1.000000      1.000000   \n",
              "\n",
              "       club_access         price  \n",
              "count  3000.000000   3000.000000  \n",
              "mean      0.499667   8606.600000  \n",
              "std       0.500083   2216.248563  \n",
              "min       0.000000   2235.000000  \n",
              "25%       0.000000   7005.000000  \n",
              "50%       0.000000   8615.000000  \n",
              "75%       1.000000  10215.000000  \n",
              "max       1.000000  15035.000000  "
            ],
            "text/html": [
              "\n",
              "  <div id=\"df-20622f35-7bbf-465b-81ac-65104d38edac\">\n",
              "    <div class=\"colab-df-container\">\n",
              "      <div>\n",
              "<style scoped>\n",
              "    .dataframe tbody tr th:only-of-type {\n",
              "        vertical-align: middle;\n",
              "    }\n",
              "\n",
              "    .dataframe tbody tr th {\n",
              "        vertical-align: top;\n",
              "    }\n",
              "\n",
              "    .dataframe thead th {\n",
              "        text-align: right;\n",
              "    }\n",
              "</style>\n",
              "<table border=\"1\" class=\"dataframe\">\n",
              "  <thead>\n",
              "    <tr style=\"text-align: right;\">\n",
              "      <th></th>\n",
              "      <th>room</th>\n",
              "      <th>bathroom</th>\n",
              "      <th>kitchen</th>\n",
              "      <th>french_door</th>\n",
              "      <th>backyard</th>\n",
              "      <th>furnished</th>\n",
              "      <th>green_paint</th>\n",
              "      <th>solar_power</th>\n",
              "      <th>woodfloor</th>\n",
              "      <th>qlm_security</th>\n",
              "      <th>club_access</th>\n",
              "      <th>price</th>\n",
              "    </tr>\n",
              "  </thead>\n",
              "  <tbody>\n",
              "    <tr>\n",
              "      <th>count</th>\n",
              "      <td>3000.000000</td>\n",
              "      <td>3000.000000</td>\n",
              "      <td>3000.000000</td>\n",
              "      <td>3000.000000</td>\n",
              "      <td>3000.000000</td>\n",
              "      <td>3000.000000</td>\n",
              "      <td>3000.000000</td>\n",
              "      <td>3000.000000</td>\n",
              "      <td>3000.000000</td>\n",
              "      <td>3000.000000</td>\n",
              "      <td>3000.000000</td>\n",
              "      <td>3000.000000</td>\n",
              "    </tr>\n",
              "    <tr>\n",
              "      <th>mean</th>\n",
              "      <td>2.990000</td>\n",
              "      <td>1.489000</td>\n",
              "      <td>1.522000</td>\n",
              "      <td>1.998333</td>\n",
              "      <td>0.490333</td>\n",
              "      <td>0.488667</td>\n",
              "      <td>0.485000</td>\n",
              "      <td>0.495667</td>\n",
              "      <td>0.512333</td>\n",
              "      <td>0.480667</td>\n",
              "      <td>0.499667</td>\n",
              "      <td>8606.600000</td>\n",
              "    </tr>\n",
              "    <tr>\n",
              "      <th>std</th>\n",
              "      <td>1.424281</td>\n",
              "      <td>0.499962</td>\n",
              "      <td>0.499599</td>\n",
              "      <td>0.813153</td>\n",
              "      <td>0.499990</td>\n",
              "      <td>0.499955</td>\n",
              "      <td>0.499858</td>\n",
              "      <td>0.500065</td>\n",
              "      <td>0.499931</td>\n",
              "      <td>0.499709</td>\n",
              "      <td>0.500083</td>\n",
              "      <td>2216.248563</td>\n",
              "    </tr>\n",
              "    <tr>\n",
              "      <th>min</th>\n",
              "      <td>1.000000</td>\n",
              "      <td>1.000000</td>\n",
              "      <td>1.000000</td>\n",
              "      <td>1.000000</td>\n",
              "      <td>0.000000</td>\n",
              "      <td>0.000000</td>\n",
              "      <td>0.000000</td>\n",
              "      <td>0.000000</td>\n",
              "      <td>0.000000</td>\n",
              "      <td>0.000000</td>\n",
              "      <td>0.000000</td>\n",
              "      <td>2235.000000</td>\n",
              "    </tr>\n",
              "    <tr>\n",
              "      <th>25%</th>\n",
              "      <td>2.000000</td>\n",
              "      <td>1.000000</td>\n",
              "      <td>1.000000</td>\n",
              "      <td>1.000000</td>\n",
              "      <td>0.000000</td>\n",
              "      <td>0.000000</td>\n",
              "      <td>0.000000</td>\n",
              "      <td>0.000000</td>\n",
              "      <td>0.000000</td>\n",
              "      <td>0.000000</td>\n",
              "      <td>0.000000</td>\n",
              "      <td>7005.000000</td>\n",
              "    </tr>\n",
              "    <tr>\n",
              "      <th>50%</th>\n",
              "      <td>3.000000</td>\n",
              "      <td>1.000000</td>\n",
              "      <td>2.000000</td>\n",
              "      <td>2.000000</td>\n",
              "      <td>0.000000</td>\n",
              "      <td>0.000000</td>\n",
              "      <td>0.000000</td>\n",
              "      <td>0.000000</td>\n",
              "      <td>1.000000</td>\n",
              "      <td>0.000000</td>\n",
              "      <td>0.000000</td>\n",
              "      <td>8615.000000</td>\n",
              "    </tr>\n",
              "    <tr>\n",
              "      <th>75%</th>\n",
              "      <td>4.000000</td>\n",
              "      <td>2.000000</td>\n",
              "      <td>2.000000</td>\n",
              "      <td>3.000000</td>\n",
              "      <td>1.000000</td>\n",
              "      <td>1.000000</td>\n",
              "      <td>1.000000</td>\n",
              "      <td>1.000000</td>\n",
              "      <td>1.000000</td>\n",
              "      <td>1.000000</td>\n",
              "      <td>1.000000</td>\n",
              "      <td>10215.000000</td>\n",
              "    </tr>\n",
              "    <tr>\n",
              "      <th>max</th>\n",
              "      <td>5.000000</td>\n",
              "      <td>2.000000</td>\n",
              "      <td>2.000000</td>\n",
              "      <td>3.000000</td>\n",
              "      <td>1.000000</td>\n",
              "      <td>1.000000</td>\n",
              "      <td>1.000000</td>\n",
              "      <td>1.000000</td>\n",
              "      <td>1.000000</td>\n",
              "      <td>1.000000</td>\n",
              "      <td>1.000000</td>\n",
              "      <td>15035.000000</td>\n",
              "    </tr>\n",
              "  </tbody>\n",
              "</table>\n",
              "</div>\n",
              "      <button class=\"colab-df-convert\" onclick=\"convertToInteractive('df-20622f35-7bbf-465b-81ac-65104d38edac')\"\n",
              "              title=\"Convert this dataframe to an interactive table.\"\n",
              "              style=\"display:none;\">\n",
              "        \n",
              "  <svg xmlns=\"http://www.w3.org/2000/svg\" height=\"24px\"viewBox=\"0 0 24 24\"\n",
              "       width=\"24px\">\n",
              "    <path d=\"M0 0h24v24H0V0z\" fill=\"none\"/>\n",
              "    <path d=\"M18.56 5.44l.94 2.06.94-2.06 2.06-.94-2.06-.94-.94-2.06-.94 2.06-2.06.94zm-11 1L8.5 8.5l.94-2.06 2.06-.94-2.06-.94L8.5 2.5l-.94 2.06-2.06.94zm10 10l.94 2.06.94-2.06 2.06-.94-2.06-.94-.94-2.06-.94 2.06-2.06.94z\"/><path d=\"M17.41 7.96l-1.37-1.37c-.4-.4-.92-.59-1.43-.59-.52 0-1.04.2-1.43.59L10.3 9.45l-7.72 7.72c-.78.78-.78 2.05 0 2.83L4 21.41c.39.39.9.59 1.41.59.51 0 1.02-.2 1.41-.59l7.78-7.78 2.81-2.81c.8-.78.8-2.07 0-2.86zM5.41 20L4 18.59l7.72-7.72 1.47 1.35L5.41 20z\"/>\n",
              "  </svg>\n",
              "      </button>\n",
              "      \n",
              "  <style>\n",
              "    .colab-df-container {\n",
              "      display:flex;\n",
              "      flex-wrap:wrap;\n",
              "      gap: 12px;\n",
              "    }\n",
              "\n",
              "    .colab-df-convert {\n",
              "      background-color: #E8F0FE;\n",
              "      border: none;\n",
              "      border-radius: 50%;\n",
              "      cursor: pointer;\n",
              "      display: none;\n",
              "      fill: #1967D2;\n",
              "      height: 32px;\n",
              "      padding: 0 0 0 0;\n",
              "      width: 32px;\n",
              "    }\n",
              "\n",
              "    .colab-df-convert:hover {\n",
              "      background-color: #E2EBFA;\n",
              "      box-shadow: 0px 1px 2px rgba(60, 64, 67, 0.3), 0px 1px 3px 1px rgba(60, 64, 67, 0.15);\n",
              "      fill: #174EA6;\n",
              "    }\n",
              "\n",
              "    [theme=dark] .colab-df-convert {\n",
              "      background-color: #3B4455;\n",
              "      fill: #D2E3FC;\n",
              "    }\n",
              "\n",
              "    [theme=dark] .colab-df-convert:hover {\n",
              "      background-color: #434B5C;\n",
              "      box-shadow: 0px 1px 3px 1px rgba(0, 0, 0, 0.15);\n",
              "      filter: drop-shadow(0px 1px 2px rgba(0, 0, 0, 0.3));\n",
              "      fill: #FFFFFF;\n",
              "    }\n",
              "  </style>\n",
              "\n",
              "      <script>\n",
              "        const buttonEl =\n",
              "          document.querySelector('#df-20622f35-7bbf-465b-81ac-65104d38edac button.colab-df-convert');\n",
              "        buttonEl.style.display =\n",
              "          google.colab.kernel.accessAllowed ? 'block' : 'none';\n",
              "\n",
              "        async function convertToInteractive(key) {\n",
              "          const element = document.querySelector('#df-20622f35-7bbf-465b-81ac-65104d38edac');\n",
              "          const dataTable =\n",
              "            await google.colab.kernel.invokeFunction('convertToInteractive',\n",
              "                                                     [key], {});\n",
              "          if (!dataTable) return;\n",
              "\n",
              "          const docLinkHtml = 'Like what you see? Visit the ' +\n",
              "            '<a target=\"_blank\" href=https://colab.research.google.com/notebooks/data_table.ipynb>data table notebook</a>'\n",
              "            + ' to learn more about interactive tables.';\n",
              "          element.innerHTML = '';\n",
              "          dataTable['output_type'] = 'display_data';\n",
              "          await google.colab.output.renderOutput(dataTable, element);\n",
              "          const docLink = document.createElement('div');\n",
              "          docLink.innerHTML = docLinkHtml;\n",
              "          element.appendChild(docLink);\n",
              "        }\n",
              "      </script>\n",
              "    </div>\n",
              "  </div>\n",
              "  "
            ]
          },
          "metadata": {},
          "execution_count": 15
        }
      ]
    },
    {
      "cell_type": "code",
      "source": [
        "test.describe()"
      ],
      "metadata": {
        "colab": {
          "base_uri": "https://localhost:8080/",
          "height": 300
        },
        "id": "_2G3M6ZRXXR8",
        "outputId": "21f68092-eb92-489d-8521-42f9b129d3d8"
      },
      "execution_count": 16,
      "outputs": [
        {
          "output_type": "execute_result",
          "data": {
            "text/plain": [
              "             room    bathroom     kitchen  french_door    backyard  \\\n",
              "count  999.000000  999.000000  999.000000   999.000000  999.000000   \n",
              "mean     3.019019    1.491491    1.496496     1.959960    0.510511   \n",
              "std      1.413731    0.500178    0.500238     0.809759    0.500140   \n",
              "min      1.000000    1.000000    1.000000     1.000000    0.000000   \n",
              "25%      2.000000    1.000000    1.000000     1.000000    0.000000   \n",
              "50%      3.000000    1.000000    1.000000     2.000000    1.000000   \n",
              "75%      4.000000    2.000000    2.000000     3.000000    1.000000   \n",
              "max      5.000000    2.000000    2.000000     3.000000    1.000000   \n",
              "\n",
              "        furnished  green_paint  solar_power   woodfloor  qlm_security  \\\n",
              "count  999.000000   999.000000    999.00000  999.000000    999.000000   \n",
              "mean     0.474474     0.523524      0.49049    0.501502      0.500501   \n",
              "std      0.499598     0.499696      0.50016    0.500248      0.500250   \n",
              "min      0.000000     0.000000      0.00000    0.000000      0.000000   \n",
              "25%      0.000000     0.000000      0.00000    0.000000      0.000000   \n",
              "50%      0.000000     1.000000      0.00000    1.000000      1.000000   \n",
              "75%      1.000000     1.000000      1.00000    1.000000      1.000000   \n",
              "max      1.000000     1.000000      1.00000    1.000000      1.000000   \n",
              "\n",
              "       club_access         price  \n",
              "count   999.000000    999.000000  \n",
              "mean      0.495495   8601.863864  \n",
              "std       0.500230   2217.898743  \n",
              "min       0.000000   2688.000000  \n",
              "25%       0.000000   7068.000000  \n",
              "50%       0.000000   8608.000000  \n",
              "75%       1.000000  10128.000000  \n",
              "max       1.000000  14318.000000  "
            ],
            "text/html": [
              "\n",
              "  <div id=\"df-61f4ad17-66ae-4174-a600-3aef7d02d5f2\">\n",
              "    <div class=\"colab-df-container\">\n",
              "      <div>\n",
              "<style scoped>\n",
              "    .dataframe tbody tr th:only-of-type {\n",
              "        vertical-align: middle;\n",
              "    }\n",
              "\n",
              "    .dataframe tbody tr th {\n",
              "        vertical-align: top;\n",
              "    }\n",
              "\n",
              "    .dataframe thead th {\n",
              "        text-align: right;\n",
              "    }\n",
              "</style>\n",
              "<table border=\"1\" class=\"dataframe\">\n",
              "  <thead>\n",
              "    <tr style=\"text-align: right;\">\n",
              "      <th></th>\n",
              "      <th>room</th>\n",
              "      <th>bathroom</th>\n",
              "      <th>kitchen</th>\n",
              "      <th>french_door</th>\n",
              "      <th>backyard</th>\n",
              "      <th>furnished</th>\n",
              "      <th>green_paint</th>\n",
              "      <th>solar_power</th>\n",
              "      <th>woodfloor</th>\n",
              "      <th>qlm_security</th>\n",
              "      <th>club_access</th>\n",
              "      <th>price</th>\n",
              "    </tr>\n",
              "  </thead>\n",
              "  <tbody>\n",
              "    <tr>\n",
              "      <th>count</th>\n",
              "      <td>999.000000</td>\n",
              "      <td>999.000000</td>\n",
              "      <td>999.000000</td>\n",
              "      <td>999.000000</td>\n",
              "      <td>999.000000</td>\n",
              "      <td>999.000000</td>\n",
              "      <td>999.000000</td>\n",
              "      <td>999.00000</td>\n",
              "      <td>999.000000</td>\n",
              "      <td>999.000000</td>\n",
              "      <td>999.000000</td>\n",
              "      <td>999.000000</td>\n",
              "    </tr>\n",
              "    <tr>\n",
              "      <th>mean</th>\n",
              "      <td>3.019019</td>\n",
              "      <td>1.491491</td>\n",
              "      <td>1.496496</td>\n",
              "      <td>1.959960</td>\n",
              "      <td>0.510511</td>\n",
              "      <td>0.474474</td>\n",
              "      <td>0.523524</td>\n",
              "      <td>0.49049</td>\n",
              "      <td>0.501502</td>\n",
              "      <td>0.500501</td>\n",
              "      <td>0.495495</td>\n",
              "      <td>8601.863864</td>\n",
              "    </tr>\n",
              "    <tr>\n",
              "      <th>std</th>\n",
              "      <td>1.413731</td>\n",
              "      <td>0.500178</td>\n",
              "      <td>0.500238</td>\n",
              "      <td>0.809759</td>\n",
              "      <td>0.500140</td>\n",
              "      <td>0.499598</td>\n",
              "      <td>0.499696</td>\n",
              "      <td>0.50016</td>\n",
              "      <td>0.500248</td>\n",
              "      <td>0.500250</td>\n",
              "      <td>0.500230</td>\n",
              "      <td>2217.898743</td>\n",
              "    </tr>\n",
              "    <tr>\n",
              "      <th>min</th>\n",
              "      <td>1.000000</td>\n",
              "      <td>1.000000</td>\n",
              "      <td>1.000000</td>\n",
              "      <td>1.000000</td>\n",
              "      <td>0.000000</td>\n",
              "      <td>0.000000</td>\n",
              "      <td>0.000000</td>\n",
              "      <td>0.00000</td>\n",
              "      <td>0.000000</td>\n",
              "      <td>0.000000</td>\n",
              "      <td>0.000000</td>\n",
              "      <td>2688.000000</td>\n",
              "    </tr>\n",
              "    <tr>\n",
              "      <th>25%</th>\n",
              "      <td>2.000000</td>\n",
              "      <td>1.000000</td>\n",
              "      <td>1.000000</td>\n",
              "      <td>1.000000</td>\n",
              "      <td>0.000000</td>\n",
              "      <td>0.000000</td>\n",
              "      <td>0.000000</td>\n",
              "      <td>0.00000</td>\n",
              "      <td>0.000000</td>\n",
              "      <td>0.000000</td>\n",
              "      <td>0.000000</td>\n",
              "      <td>7068.000000</td>\n",
              "    </tr>\n",
              "    <tr>\n",
              "      <th>50%</th>\n",
              "      <td>3.000000</td>\n",
              "      <td>1.000000</td>\n",
              "      <td>1.000000</td>\n",
              "      <td>2.000000</td>\n",
              "      <td>1.000000</td>\n",
              "      <td>0.000000</td>\n",
              "      <td>1.000000</td>\n",
              "      <td>0.00000</td>\n",
              "      <td>1.000000</td>\n",
              "      <td>1.000000</td>\n",
              "      <td>0.000000</td>\n",
              "      <td>8608.000000</td>\n",
              "    </tr>\n",
              "    <tr>\n",
              "      <th>75%</th>\n",
              "      <td>4.000000</td>\n",
              "      <td>2.000000</td>\n",
              "      <td>2.000000</td>\n",
              "      <td>3.000000</td>\n",
              "      <td>1.000000</td>\n",
              "      <td>1.000000</td>\n",
              "      <td>1.000000</td>\n",
              "      <td>1.00000</td>\n",
              "      <td>1.000000</td>\n",
              "      <td>1.000000</td>\n",
              "      <td>1.000000</td>\n",
              "      <td>10128.000000</td>\n",
              "    </tr>\n",
              "    <tr>\n",
              "      <th>max</th>\n",
              "      <td>5.000000</td>\n",
              "      <td>2.000000</td>\n",
              "      <td>2.000000</td>\n",
              "      <td>3.000000</td>\n",
              "      <td>1.000000</td>\n",
              "      <td>1.000000</td>\n",
              "      <td>1.000000</td>\n",
              "      <td>1.00000</td>\n",
              "      <td>1.000000</td>\n",
              "      <td>1.000000</td>\n",
              "      <td>1.000000</td>\n",
              "      <td>14318.000000</td>\n",
              "    </tr>\n",
              "  </tbody>\n",
              "</table>\n",
              "</div>\n",
              "      <button class=\"colab-df-convert\" onclick=\"convertToInteractive('df-61f4ad17-66ae-4174-a600-3aef7d02d5f2')\"\n",
              "              title=\"Convert this dataframe to an interactive table.\"\n",
              "              style=\"display:none;\">\n",
              "        \n",
              "  <svg xmlns=\"http://www.w3.org/2000/svg\" height=\"24px\"viewBox=\"0 0 24 24\"\n",
              "       width=\"24px\">\n",
              "    <path d=\"M0 0h24v24H0V0z\" fill=\"none\"/>\n",
              "    <path d=\"M18.56 5.44l.94 2.06.94-2.06 2.06-.94-2.06-.94-.94-2.06-.94 2.06-2.06.94zm-11 1L8.5 8.5l.94-2.06 2.06-.94-2.06-.94L8.5 2.5l-.94 2.06-2.06.94zm10 10l.94 2.06.94-2.06 2.06-.94-2.06-.94-.94-2.06-.94 2.06-2.06.94z\"/><path d=\"M17.41 7.96l-1.37-1.37c-.4-.4-.92-.59-1.43-.59-.52 0-1.04.2-1.43.59L10.3 9.45l-7.72 7.72c-.78.78-.78 2.05 0 2.83L4 21.41c.39.39.9.59 1.41.59.51 0 1.02-.2 1.41-.59l7.78-7.78 2.81-2.81c.8-.78.8-2.07 0-2.86zM5.41 20L4 18.59l7.72-7.72 1.47 1.35L5.41 20z\"/>\n",
              "  </svg>\n",
              "      </button>\n",
              "      \n",
              "  <style>\n",
              "    .colab-df-container {\n",
              "      display:flex;\n",
              "      flex-wrap:wrap;\n",
              "      gap: 12px;\n",
              "    }\n",
              "\n",
              "    .colab-df-convert {\n",
              "      background-color: #E8F0FE;\n",
              "      border: none;\n",
              "      border-radius: 50%;\n",
              "      cursor: pointer;\n",
              "      display: none;\n",
              "      fill: #1967D2;\n",
              "      height: 32px;\n",
              "      padding: 0 0 0 0;\n",
              "      width: 32px;\n",
              "    }\n",
              "\n",
              "    .colab-df-convert:hover {\n",
              "      background-color: #E2EBFA;\n",
              "      box-shadow: 0px 1px 2px rgba(60, 64, 67, 0.3), 0px 1px 3px 1px rgba(60, 64, 67, 0.15);\n",
              "      fill: #174EA6;\n",
              "    }\n",
              "\n",
              "    [theme=dark] .colab-df-convert {\n",
              "      background-color: #3B4455;\n",
              "      fill: #D2E3FC;\n",
              "    }\n",
              "\n",
              "    [theme=dark] .colab-df-convert:hover {\n",
              "      background-color: #434B5C;\n",
              "      box-shadow: 0px 1px 3px 1px rgba(0, 0, 0, 0.15);\n",
              "      filter: drop-shadow(0px 1px 2px rgba(0, 0, 0, 0.3));\n",
              "      fill: #FFFFFF;\n",
              "    }\n",
              "  </style>\n",
              "\n",
              "      <script>\n",
              "        const buttonEl =\n",
              "          document.querySelector('#df-61f4ad17-66ae-4174-a600-3aef7d02d5f2 button.colab-df-convert');\n",
              "        buttonEl.style.display =\n",
              "          google.colab.kernel.accessAllowed ? 'block' : 'none';\n",
              "\n",
              "        async function convertToInteractive(key) {\n",
              "          const element = document.querySelector('#df-61f4ad17-66ae-4174-a600-3aef7d02d5f2');\n",
              "          const dataTable =\n",
              "            await google.colab.kernel.invokeFunction('convertToInteractive',\n",
              "                                                     [key], {});\n",
              "          if (!dataTable) return;\n",
              "\n",
              "          const docLinkHtml = 'Like what you see? Visit the ' +\n",
              "            '<a target=\"_blank\" href=https://colab.research.google.com/notebooks/data_table.ipynb>data table notebook</a>'\n",
              "            + ' to learn more about interactive tables.';\n",
              "          element.innerHTML = '';\n",
              "          dataTable['output_type'] = 'display_data';\n",
              "          await google.colab.output.renderOutput(dataTable, element);\n",
              "          const docLink = document.createElement('div');\n",
              "          docLink.innerHTML = docLinkHtml;\n",
              "          element.appendChild(docLink);\n",
              "        }\n",
              "      </script>\n",
              "    </div>\n",
              "  </div>\n",
              "  "
            ]
          },
          "metadata": {},
          "execution_count": 16
        }
      ]
    },
    {
      "cell_type": "code",
      "source": [
        "train.info()"
      ],
      "metadata": {
        "colab": {
          "base_uri": "https://localhost:8080/"
        },
        "id": "NAqQNMXfYFa0",
        "outputId": "76809348-ef5c-4227-c23e-f4e21f5c0a52"
      },
      "execution_count": 65,
      "outputs": [
        {
          "output_type": "stream",
          "name": "stdout",
          "text": [
            "<class 'pandas.core.frame.DataFrame'>\n",
            "RangeIndex: 3000 entries, 0 to 2999\n",
            "Data columns (total 12 columns):\n",
            " #   Column        Non-Null Count  Dtype\n",
            "---  ------        --------------  -----\n",
            " 0   room          3000 non-null   int64\n",
            " 1   bathroom      3000 non-null   int64\n",
            " 2   kitchen       3000 non-null   int64\n",
            " 3   french_door   3000 non-null   int64\n",
            " 4   backyard      3000 non-null   int64\n",
            " 5   furnished     3000 non-null   int64\n",
            " 6   green_paint   3000 non-null   int64\n",
            " 7   solar_power   3000 non-null   int64\n",
            " 8   woodfloor     3000 non-null   int64\n",
            " 9   qlm_security  3000 non-null   int64\n",
            " 10  club_access   3000 non-null   int64\n",
            " 11  price         3000 non-null   int64\n",
            "dtypes: int64(12)\n",
            "memory usage: 281.4 KB\n"
          ]
        }
      ]
    },
    {
      "cell_type": "code",
      "source": [
        "test.info()"
      ],
      "metadata": {
        "colab": {
          "base_uri": "https://localhost:8080/"
        },
        "id": "e_Hjm9d2YKMg",
        "outputId": "6953ae93-a74f-47b3-fb64-610fe37c9f62"
      },
      "execution_count": 66,
      "outputs": [
        {
          "output_type": "stream",
          "name": "stdout",
          "text": [
            "<class 'pandas.core.frame.DataFrame'>\n",
            "RangeIndex: 999 entries, 0 to 998\n",
            "Data columns (total 12 columns):\n",
            " #   Column        Non-Null Count  Dtype\n",
            "---  ------        --------------  -----\n",
            " 0   room          999 non-null    int64\n",
            " 1   bathroom      999 non-null    int64\n",
            " 2   kitchen       999 non-null    int64\n",
            " 3   french_door   999 non-null    int64\n",
            " 4   backyard      999 non-null    int64\n",
            " 5   furnished     999 non-null    int64\n",
            " 6   green_paint   999 non-null    int64\n",
            " 7   solar_power   999 non-null    int64\n",
            " 8   woodfloor     999 non-null    int64\n",
            " 9   qlm_security  999 non-null    int64\n",
            " 10  club_access   999 non-null    int64\n",
            " 11  price         999 non-null    int64\n",
            "dtypes: int64(12)\n",
            "memory usage: 93.8 KB\n"
          ]
        }
      ]
    },
    {
      "cell_type": "markdown",
      "source": [
        "###Corellation Analysis"
      ],
      "metadata": {
        "id": "6U3pJ0kRBWTJ"
      }
    },
    {
      "cell_type": "code",
      "source": [
        "corr_matrix = test.corr()"
      ],
      "metadata": {
        "id": "TiQPsM68rbFu"
      },
      "execution_count": 45,
      "outputs": []
    },
    {
      "cell_type": "code",
      "source": [
        "corr_matrix"
      ],
      "metadata": {
        "colab": {
          "base_uri": "https://localhost:8080/",
          "height": 425
        },
        "id": "zFcPG74nsVN5",
        "outputId": "4443f4cd-8521-4d27-f534-38b7754d5e72"
      },
      "execution_count": 48,
      "outputs": [
        {
          "output_type": "execute_result",
          "data": {
            "text/plain": [
              "                  room  bathroom   kitchen  french_door  backyard  furnished  \\\n",
              "room          1.000000 -0.037322  0.033390    -0.022967  0.092539   0.035445   \n",
              "bathroom     -0.037322  1.000000 -0.011132    -0.040425  0.001359  -0.007887   \n",
              "kitchen       0.033390 -0.011132  1.000000     0.007074  0.015166  -0.041454   \n",
              "french_door  -0.022967 -0.040425  0.007074     1.000000  0.028256   0.034623   \n",
              "backyard      0.092539  0.001359  0.015166     0.028256  1.000000  -0.027999   \n",
              "furnished     0.035445 -0.007887 -0.041454     0.034623 -0.027999   1.000000   \n",
              "green_paint   0.011422 -0.020246  0.001332    -0.010052 -0.044091   0.007425   \n",
              "solar_power   0.009467 -0.003328 -0.037178    -0.005889  0.023432  -0.005985   \n",
              "woodfloor    -0.003582  0.007059 -0.014994    -0.032008 -0.031101  -0.014881   \n",
              "qlm_security  0.017697 -0.002986 -0.000994    -0.002424 -0.073110   0.011077   \n",
              "club_access  -0.024674 -0.021178 -0.035100     0.041607  0.029226   0.032617   \n",
              "price         0.664687  0.032077  0.092177     0.080310  0.165639   0.466078   \n",
              "\n",
              "              green_paint  solar_power  woodfloor  qlm_security  club_access  \\\n",
              "room             0.011422     0.009467  -0.003582      0.017697    -0.024674   \n",
              "bathroom        -0.020246    -0.003328   0.007059     -0.002986    -0.021178   \n",
              "kitchen          0.001332    -0.037178  -0.014994     -0.000994    -0.035100   \n",
              "french_door     -0.010052    -0.005889  -0.032008     -0.002424     0.041607   \n",
              "backyard        -0.044091     0.023432  -0.031101     -0.073110     0.029226   \n",
              "furnished        0.007425    -0.005985  -0.014881      0.011077     0.032617   \n",
              "green_paint      1.000000     0.050008  -0.049245      0.004963     0.011448   \n",
              "solar_power      0.050008     1.000000  -0.067022     -0.041029     0.012845   \n",
              "woodfloor       -0.049245    -0.067022   1.000000      0.025022     0.051080   \n",
              "qlm_security     0.004963    -0.041029   0.025022      1.000000    -0.035027   \n",
              "club_access      0.011448     0.012845   0.051080     -0.035027     1.000000   \n",
              "price            0.084959     0.320036   0.393021      0.096911     0.189243   \n",
              "\n",
              "                 price  \n",
              "room          0.664687  \n",
              "bathroom      0.032077  \n",
              "kitchen       0.092177  \n",
              "french_door   0.080310  \n",
              "backyard      0.165639  \n",
              "furnished     0.466078  \n",
              "green_paint   0.084959  \n",
              "solar_power   0.320036  \n",
              "woodfloor     0.393021  \n",
              "qlm_security  0.096911  \n",
              "club_access   0.189243  \n",
              "price         1.000000  "
            ],
            "text/html": [
              "\n",
              "  <div id=\"df-0deae882-164a-4d49-99c7-50f2e8e379cb\">\n",
              "    <div class=\"colab-df-container\">\n",
              "      <div>\n",
              "<style scoped>\n",
              "    .dataframe tbody tr th:only-of-type {\n",
              "        vertical-align: middle;\n",
              "    }\n",
              "\n",
              "    .dataframe tbody tr th {\n",
              "        vertical-align: top;\n",
              "    }\n",
              "\n",
              "    .dataframe thead th {\n",
              "        text-align: right;\n",
              "    }\n",
              "</style>\n",
              "<table border=\"1\" class=\"dataframe\">\n",
              "  <thead>\n",
              "    <tr style=\"text-align: right;\">\n",
              "      <th></th>\n",
              "      <th>room</th>\n",
              "      <th>bathroom</th>\n",
              "      <th>kitchen</th>\n",
              "      <th>french_door</th>\n",
              "      <th>backyard</th>\n",
              "      <th>furnished</th>\n",
              "      <th>green_paint</th>\n",
              "      <th>solar_power</th>\n",
              "      <th>woodfloor</th>\n",
              "      <th>qlm_security</th>\n",
              "      <th>club_access</th>\n",
              "      <th>price</th>\n",
              "    </tr>\n",
              "  </thead>\n",
              "  <tbody>\n",
              "    <tr>\n",
              "      <th>room</th>\n",
              "      <td>1.000000</td>\n",
              "      <td>-0.037322</td>\n",
              "      <td>0.033390</td>\n",
              "      <td>-0.022967</td>\n",
              "      <td>0.092539</td>\n",
              "      <td>0.035445</td>\n",
              "      <td>0.011422</td>\n",
              "      <td>0.009467</td>\n",
              "      <td>-0.003582</td>\n",
              "      <td>0.017697</td>\n",
              "      <td>-0.024674</td>\n",
              "      <td>0.664687</td>\n",
              "    </tr>\n",
              "    <tr>\n",
              "      <th>bathroom</th>\n",
              "      <td>-0.037322</td>\n",
              "      <td>1.000000</td>\n",
              "      <td>-0.011132</td>\n",
              "      <td>-0.040425</td>\n",
              "      <td>0.001359</td>\n",
              "      <td>-0.007887</td>\n",
              "      <td>-0.020246</td>\n",
              "      <td>-0.003328</td>\n",
              "      <td>0.007059</td>\n",
              "      <td>-0.002986</td>\n",
              "      <td>-0.021178</td>\n",
              "      <td>0.032077</td>\n",
              "    </tr>\n",
              "    <tr>\n",
              "      <th>kitchen</th>\n",
              "      <td>0.033390</td>\n",
              "      <td>-0.011132</td>\n",
              "      <td>1.000000</td>\n",
              "      <td>0.007074</td>\n",
              "      <td>0.015166</td>\n",
              "      <td>-0.041454</td>\n",
              "      <td>0.001332</td>\n",
              "      <td>-0.037178</td>\n",
              "      <td>-0.014994</td>\n",
              "      <td>-0.000994</td>\n",
              "      <td>-0.035100</td>\n",
              "      <td>0.092177</td>\n",
              "    </tr>\n",
              "    <tr>\n",
              "      <th>french_door</th>\n",
              "      <td>-0.022967</td>\n",
              "      <td>-0.040425</td>\n",
              "      <td>0.007074</td>\n",
              "      <td>1.000000</td>\n",
              "      <td>0.028256</td>\n",
              "      <td>0.034623</td>\n",
              "      <td>-0.010052</td>\n",
              "      <td>-0.005889</td>\n",
              "      <td>-0.032008</td>\n",
              "      <td>-0.002424</td>\n",
              "      <td>0.041607</td>\n",
              "      <td>0.080310</td>\n",
              "    </tr>\n",
              "    <tr>\n",
              "      <th>backyard</th>\n",
              "      <td>0.092539</td>\n",
              "      <td>0.001359</td>\n",
              "      <td>0.015166</td>\n",
              "      <td>0.028256</td>\n",
              "      <td>1.000000</td>\n",
              "      <td>-0.027999</td>\n",
              "      <td>-0.044091</td>\n",
              "      <td>0.023432</td>\n",
              "      <td>-0.031101</td>\n",
              "      <td>-0.073110</td>\n",
              "      <td>0.029226</td>\n",
              "      <td>0.165639</td>\n",
              "    </tr>\n",
              "    <tr>\n",
              "      <th>furnished</th>\n",
              "      <td>0.035445</td>\n",
              "      <td>-0.007887</td>\n",
              "      <td>-0.041454</td>\n",
              "      <td>0.034623</td>\n",
              "      <td>-0.027999</td>\n",
              "      <td>1.000000</td>\n",
              "      <td>0.007425</td>\n",
              "      <td>-0.005985</td>\n",
              "      <td>-0.014881</td>\n",
              "      <td>0.011077</td>\n",
              "      <td>0.032617</td>\n",
              "      <td>0.466078</td>\n",
              "    </tr>\n",
              "    <tr>\n",
              "      <th>green_paint</th>\n",
              "      <td>0.011422</td>\n",
              "      <td>-0.020246</td>\n",
              "      <td>0.001332</td>\n",
              "      <td>-0.010052</td>\n",
              "      <td>-0.044091</td>\n",
              "      <td>0.007425</td>\n",
              "      <td>1.000000</td>\n",
              "      <td>0.050008</td>\n",
              "      <td>-0.049245</td>\n",
              "      <td>0.004963</td>\n",
              "      <td>0.011448</td>\n",
              "      <td>0.084959</td>\n",
              "    </tr>\n",
              "    <tr>\n",
              "      <th>solar_power</th>\n",
              "      <td>0.009467</td>\n",
              "      <td>-0.003328</td>\n",
              "      <td>-0.037178</td>\n",
              "      <td>-0.005889</td>\n",
              "      <td>0.023432</td>\n",
              "      <td>-0.005985</td>\n",
              "      <td>0.050008</td>\n",
              "      <td>1.000000</td>\n",
              "      <td>-0.067022</td>\n",
              "      <td>-0.041029</td>\n",
              "      <td>0.012845</td>\n",
              "      <td>0.320036</td>\n",
              "    </tr>\n",
              "    <tr>\n",
              "      <th>woodfloor</th>\n",
              "      <td>-0.003582</td>\n",
              "      <td>0.007059</td>\n",
              "      <td>-0.014994</td>\n",
              "      <td>-0.032008</td>\n",
              "      <td>-0.031101</td>\n",
              "      <td>-0.014881</td>\n",
              "      <td>-0.049245</td>\n",
              "      <td>-0.067022</td>\n",
              "      <td>1.000000</td>\n",
              "      <td>0.025022</td>\n",
              "      <td>0.051080</td>\n",
              "      <td>0.393021</td>\n",
              "    </tr>\n",
              "    <tr>\n",
              "      <th>qlm_security</th>\n",
              "      <td>0.017697</td>\n",
              "      <td>-0.002986</td>\n",
              "      <td>-0.000994</td>\n",
              "      <td>-0.002424</td>\n",
              "      <td>-0.073110</td>\n",
              "      <td>0.011077</td>\n",
              "      <td>0.004963</td>\n",
              "      <td>-0.041029</td>\n",
              "      <td>0.025022</td>\n",
              "      <td>1.000000</td>\n",
              "      <td>-0.035027</td>\n",
              "      <td>0.096911</td>\n",
              "    </tr>\n",
              "    <tr>\n",
              "      <th>club_access</th>\n",
              "      <td>-0.024674</td>\n",
              "      <td>-0.021178</td>\n",
              "      <td>-0.035100</td>\n",
              "      <td>0.041607</td>\n",
              "      <td>0.029226</td>\n",
              "      <td>0.032617</td>\n",
              "      <td>0.011448</td>\n",
              "      <td>0.012845</td>\n",
              "      <td>0.051080</td>\n",
              "      <td>-0.035027</td>\n",
              "      <td>1.000000</td>\n",
              "      <td>0.189243</td>\n",
              "    </tr>\n",
              "    <tr>\n",
              "      <th>price</th>\n",
              "      <td>0.664687</td>\n",
              "      <td>0.032077</td>\n",
              "      <td>0.092177</td>\n",
              "      <td>0.080310</td>\n",
              "      <td>0.165639</td>\n",
              "      <td>0.466078</td>\n",
              "      <td>0.084959</td>\n",
              "      <td>0.320036</td>\n",
              "      <td>0.393021</td>\n",
              "      <td>0.096911</td>\n",
              "      <td>0.189243</td>\n",
              "      <td>1.000000</td>\n",
              "    </tr>\n",
              "  </tbody>\n",
              "</table>\n",
              "</div>\n",
              "      <button class=\"colab-df-convert\" onclick=\"convertToInteractive('df-0deae882-164a-4d49-99c7-50f2e8e379cb')\"\n",
              "              title=\"Convert this dataframe to an interactive table.\"\n",
              "              style=\"display:none;\">\n",
              "        \n",
              "  <svg xmlns=\"http://www.w3.org/2000/svg\" height=\"24px\"viewBox=\"0 0 24 24\"\n",
              "       width=\"24px\">\n",
              "    <path d=\"M0 0h24v24H0V0z\" fill=\"none\"/>\n",
              "    <path d=\"M18.56 5.44l.94 2.06.94-2.06 2.06-.94-2.06-.94-.94-2.06-.94 2.06-2.06.94zm-11 1L8.5 8.5l.94-2.06 2.06-.94-2.06-.94L8.5 2.5l-.94 2.06-2.06.94zm10 10l.94 2.06.94-2.06 2.06-.94-2.06-.94-.94-2.06-.94 2.06-2.06.94z\"/><path d=\"M17.41 7.96l-1.37-1.37c-.4-.4-.92-.59-1.43-.59-.52 0-1.04.2-1.43.59L10.3 9.45l-7.72 7.72c-.78.78-.78 2.05 0 2.83L4 21.41c.39.39.9.59 1.41.59.51 0 1.02-.2 1.41-.59l7.78-7.78 2.81-2.81c.8-.78.8-2.07 0-2.86zM5.41 20L4 18.59l7.72-7.72 1.47 1.35L5.41 20z\"/>\n",
              "  </svg>\n",
              "      </button>\n",
              "      \n",
              "  <style>\n",
              "    .colab-df-container {\n",
              "      display:flex;\n",
              "      flex-wrap:wrap;\n",
              "      gap: 12px;\n",
              "    }\n",
              "\n",
              "    .colab-df-convert {\n",
              "      background-color: #E8F0FE;\n",
              "      border: none;\n",
              "      border-radius: 50%;\n",
              "      cursor: pointer;\n",
              "      display: none;\n",
              "      fill: #1967D2;\n",
              "      height: 32px;\n",
              "      padding: 0 0 0 0;\n",
              "      width: 32px;\n",
              "    }\n",
              "\n",
              "    .colab-df-convert:hover {\n",
              "      background-color: #E2EBFA;\n",
              "      box-shadow: 0px 1px 2px rgba(60, 64, 67, 0.3), 0px 1px 3px 1px rgba(60, 64, 67, 0.15);\n",
              "      fill: #174EA6;\n",
              "    }\n",
              "\n",
              "    [theme=dark] .colab-df-convert {\n",
              "      background-color: #3B4455;\n",
              "      fill: #D2E3FC;\n",
              "    }\n",
              "\n",
              "    [theme=dark] .colab-df-convert:hover {\n",
              "      background-color: #434B5C;\n",
              "      box-shadow: 0px 1px 3px 1px rgba(0, 0, 0, 0.15);\n",
              "      filter: drop-shadow(0px 1px 2px rgba(0, 0, 0, 0.3));\n",
              "      fill: #FFFFFF;\n",
              "    }\n",
              "  </style>\n",
              "\n",
              "      <script>\n",
              "        const buttonEl =\n",
              "          document.querySelector('#df-0deae882-164a-4d49-99c7-50f2e8e379cb button.colab-df-convert');\n",
              "        buttonEl.style.display =\n",
              "          google.colab.kernel.accessAllowed ? 'block' : 'none';\n",
              "\n",
              "        async function convertToInteractive(key) {\n",
              "          const element = document.querySelector('#df-0deae882-164a-4d49-99c7-50f2e8e379cb');\n",
              "          const dataTable =\n",
              "            await google.colab.kernel.invokeFunction('convertToInteractive',\n",
              "                                                     [key], {});\n",
              "          if (!dataTable) return;\n",
              "\n",
              "          const docLinkHtml = 'Like what you see? Visit the ' +\n",
              "            '<a target=\"_blank\" href=https://colab.research.google.com/notebooks/data_table.ipynb>data table notebook</a>'\n",
              "            + ' to learn more about interactive tables.';\n",
              "          element.innerHTML = '';\n",
              "          dataTable['output_type'] = 'display_data';\n",
              "          await google.colab.output.renderOutput(dataTable, element);\n",
              "          const docLink = document.createElement('div');\n",
              "          docLink.innerHTML = docLinkHtml;\n",
              "          element.appendChild(docLink);\n",
              "        }\n",
              "      </script>\n",
              "    </div>\n",
              "  </div>\n",
              "  "
            ]
          },
          "metadata": {},
          "execution_count": 48
        }
      ]
    },
    {
      "cell_type": "code",
      "source": [
        "corr_matrix[\"price\"]"
      ],
      "metadata": {
        "colab": {
          "base_uri": "https://localhost:8080/"
        },
        "id": "zoq461hvrpqU",
        "outputId": "28f74753-481f-43b4-b8d7-42d65a333eeb"
      },
      "execution_count": 55,
      "outputs": [
        {
          "output_type": "execute_result",
          "data": {
            "text/plain": [
              "room            0.664687\n",
              "bathroom        0.032077\n",
              "kitchen         0.092177\n",
              "french_door     0.080310\n",
              "backyard        0.165639\n",
              "furnished       0.466078\n",
              "green_paint     0.084959\n",
              "solar_power     0.320036\n",
              "woodfloor       0.393021\n",
              "qlm_security    0.096911\n",
              "club_access     0.189243\n",
              "price           1.000000\n",
              "Name: price, dtype: float64"
            ]
          },
          "metadata": {},
          "execution_count": 55
        }
      ]
    },
    {
      "cell_type": "code",
      "source": [
        "corr_dict = {}\n",
        "corr_dict['room'] = 0.664687\n",
        "corr_dict['bathroom'] = 0.032077\n",
        "corr_dict['kitchen'] = 0.092177\n",
        "corr_dict['french_door'] = 0.080310\n",
        "corr_dict['backyard'] = 0.165639\n",
        "corr_dict['furnished'] = 0.466078\n",
        "corr_dict['green_paint'] = 0.084959\n",
        "corr_dict['solar_power'] = 0.320036\n",
        "corr_dict['woodfloor'] = 0.393021\n",
        "corr_dict['qlm_security'] = 0.096911\n",
        "corr_dict['club_access'] = 0.189243\n",
        "corr_dict['price'] = 1.000000\n",
        "sorted_corr = sorted(corr_dict.items(), key=lambda x: x[1])\n",
        "var_names = [item[0] for item in sorted_corr]\n",
        "corr_coeffs = [item[1] for item in sorted_corr]\n",
        "fig, ax = plt.subplots(figsize=(8, 6))\n",
        "ax.barh(var_names, corr_coeffs)\n",
        "ax.set_xlabel('Correlation coefficient')\n",
        "ax.set_title('Correlation coefficients with price variable')\n",
        "plt.show()"
      ],
      "metadata": {
        "colab": {
          "base_uri": "https://localhost:8080/",
          "height": 569
        },
        "id": "uICfdvCIuLgH",
        "outputId": "29e4311a-d2b7-44b1-a0e7-8361aa23c45f"
      },
      "execution_count": 57,
      "outputs": [
        {
          "output_type": "display_data",
          "data": {
            "text/plain": [
              "<Figure size 800x600 with 1 Axes>"
            ],
            "image/png": "[encoded data removed]"
          },
          "metadata": {}
        }
      ]
    },
    {
      "cell_type": "code",
      "source": [
        "train_X = train.drop('price', axis=1)\n",
        "test_X = test.drop('price', axis=1)\n",
        "train_Y = train['price']\n",
        "test_Y = test['price']"
      ],
      "metadata": {
        "id": "tuxfw75Kaq9P"
      },
      "execution_count": 19,
      "outputs": []
    },
    {
      "cell_type": "code",
      "source": [
        "train_Y"
      ],
      "metadata": {
        "colab": {
          "base_uri": "https://localhost:8080/"
        },
        "id": "Ezi4k-JJxGWo",
        "outputId": "93a965f1-6fd5-475b-f03d-3925c951b65f"
      },
      "execution_count": 59,
      "outputs": [
        {
          "output_type": "execute_result",
          "data": {
            "text/plain": [
              "0       6835\n",
              "1       9005\n",
              "2       9005\n",
              "3       5105\n",
              "4       9105\n",
              "        ... \n",
              "2995    4825\n",
              "2996    6755\n",
              "2997    7565\n",
              "2998    9135\n",
              "2999    8955\n",
              "Name: price, Length: 3000, dtype: int64"
            ]
          },
          "metadata": {},
          "execution_count": 59
        }
      ]
    },
    {
      "cell_type": "code",
      "source": [
        "test_Y.mean()"
      ],
      "metadata": {
        "colab": {
          "base_uri": "https://localhost:8080/"
        },
        "id": "gMU45xXixMs1",
        "outputId": "d24ea88d-6b32-4496-b3d8-b4aa3880c471"
      },
      "execution_count": 62,
      "outputs": [
        {
          "output_type": "execute_result",
          "data": {
            "text/plain": [
              "8601.863863863864"
            ]
          },
          "metadata": {},
          "execution_count": 62
        }
      ]
    },
    {
      "cell_type": "code",
      "source": [
        "train_X.head()"
      ],
      "metadata": {
        "colab": {
          "base_uri": "https://localhost:8080/",
          "height": 206
        },
        "id": "ht3v7HO6bBjo",
        "outputId": "afccf013-3319-4c06-ca5e-b49b2d7c4177"
      },
      "execution_count": 20,
      "outputs": [
        {
          "output_type": "execute_result",
          "data": {
            "text/plain": [
              "   room  bathroom  kitchen  french_door  backyard  furnished  green_paint  \\\n",
              "0     3         1        2            1         1          0            1   \n",
              "1     5         2        2            2         1          0            0   \n",
              "2     5         2        2            2         1          0            0   \n",
              "3     1         2        1            2         0          0            0   \n",
              "4     2         1        2            3         1          1            0   \n",
              "\n",
              "   solar_power  woodfloor  qlm_security  club_access  \n",
              "0            0          0             1            1  \n",
              "1            0          0             1            1  \n",
              "2            0          0             1            1  \n",
              "3            0          1             1            0  \n",
              "4            0          1             1            0  "
            ],
            "text/html": [
              "\n",
              "  <div id=\"df-0ac02cef-1407-4fd2-a616-c16f1d7430d1\">\n",
              "    <div class=\"colab-df-container\">\n",
              "      <div>\n",
              "<style scoped>\n",
              "    .dataframe tbody tr th:only-of-type {\n",
              "        vertical-align: middle;\n",
              "    }\n",
              "\n",
              "    .dataframe tbody tr th {\n",
              "        vertical-align: top;\n",
              "    }\n",
              "\n",
              "    .dataframe thead th {\n",
              "        text-align: right;\n",
              "    }\n",
              "</style>\n",
              "<table border=\"1\" class=\"dataframe\">\n",
              "  <thead>\n",
              "    <tr style=\"text-align: right;\">\n",
              "      <th></th>\n",
              "      <th>room</th>\n",
              "      <th>bathroom</th>\n",
              "      <th>kitchen</th>\n",
              "      <th>french_door</th>\n",
              "      <th>backyard</th>\n",
              "      <th>furnished</th>\n",
              "      <th>green_paint</th>\n",
              "      <th>solar_power</th>\n",
              "      <th>woodfloor</th>\n",
              "      <th>qlm_security</th>\n",
              "      <th>club_access</th>\n",
              "    </tr>\n",
              "  </thead>\n",
              "  <tbody>\n",
              "    <tr>\n",
              "      <th>0</th>\n",
              "      <td>3</td>\n",
              "      <td>1</td>\n",
              "      <td>2</td>\n",
              "      <td>1</td>\n",
              "      <td>1</td>\n",
              "      <td>0</td>\n",
              "      <td>1</td>\n",
              "      <td>0</td>\n",
              "      <td>0</td>\n",
              "      <td>1</td>\n",
              "      <td>1</td>\n",
              "    </tr>\n",
              "    <tr>\n",
              "      <th>1</th>\n",
              "      <td>5</td>\n",
              "      <td>2</td>\n",
              "      <td>2</td>\n",
              "      <td>2</td>\n",
              "      <td>1</td>\n",
              "      <td>0</td>\n",
              "      <td>0</td>\n",
              "      <td>0</td>\n",
              "      <td>0</td>\n",
              "      <td>1</td>\n",
              "      <td>1</td>\n",
              "    </tr>\n",
              "    <tr>\n",
              "      <th>2</th>\n",
              "      <td>5</td>\n",
              "      <td>2</td>\n",
              "      <td>2</td>\n",
              "      <td>2</td>\n",
              "      <td>1</td>\n",
              "      <td>0</td>\n",
              "      <td>0</td>\n",
              "      <td>0</td>\n",
              "      <td>0</td>\n",
              "      <td>1</td>\n",
              "      <td>1</td>\n",
              "    </tr>\n",
              "    <tr>\n",
              "      <th>3</th>\n",
              "      <td>1</td>\n",
              "      <td>2</td>\n",
              "      <td>1</td>\n",
              "      <td>2</td>\n",
              "      <td>0</td>\n",
              "      <td>0</td>\n",
              "      <td>0</td>\n",
              "      <td>0</td>\n",
              "      <td>1</td>\n",
              "      <td>1</td>\n",
              "      <td>0</td>\n",
              "    </tr>\n",
              "    <tr>\n",
              "      <th>4</th>\n",
              "      <td>2</td>\n",
              "      <td>1</td>\n",
              "      <td>2</td>\n",
              "      <td>3</td>\n",
              "      <td>1</td>\n",
              "      <td>1</td>\n",
              "      <td>0</td>\n",
              "      <td>0</td>\n",
              "      <td>1</td>\n",
              "      <td>1</td>\n",
              "      <td>0</td>\n",
              "    </tr>\n",
              "  </tbody>\n",
              "</table>\n",
              "</div>\n",
              "      <button class=\"colab-df-convert\" onclick=\"convertToInteractive('df-0ac02cef-1407-4fd2-a616-c16f1d7430d1')\"\n",
              "              title=\"Convert this dataframe to an interactive table.\"\n",
              "              style=\"display:none;\">\n",
              "        \n",
              "  <svg xmlns=\"http://www.w3.org/2000/svg\" height=\"24px\"viewBox=\"0 0 24 24\"\n",
              "       width=\"24px\">\n",
              "    <path d=\"M0 0h24v24H0V0z\" fill=\"none\"/>\n",
              "    <path d=\"M18.56 5.44l.94 2.06.94-2.06 2.06-.94-2.06-.94-.94-2.06-.94 2.06-2.06.94zm-11 1L8.5 8.5l.94-2.06 2.06-.94-2.06-.94L8.5 2.5l-.94 2.06-2.06.94zm10 10l.94 2.06.94-2.06 2.06-.94-2.06-.94-.94-2.06-.94 2.06-2.06.94z\"/><path d=\"M17.41 7.96l-1.37-1.37c-.4-.4-.92-.59-1.43-.59-.52 0-1.04.2-1.43.59L10.3 9.45l-7.72 7.72c-.78.78-.78 2.05 0 2.83L4 21.41c.39.39.9.59 1.41.59.51 0 1.02-.2 1.41-.59l7.78-7.78 2.81-2.81c.8-.78.8-2.07 0-2.86zM5.41 20L4 18.59l7.72-7.72 1.47 1.35L5.41 20z\"/>\n",
              "  </svg>\n",
              "      </button>\n",
              "      \n",
              "  <style>\n",
              "    .colab-df-container {\n",
              "      display:flex;\n",
              "      flex-wrap:wrap;\n",
              "      gap: 12px;\n",
              "    }\n",
              "\n",
              "    .colab-df-convert {\n",
              "      background-color: #E8F0FE;\n",
              "      border: none;\n",
              "      border-radius: 50%;\n",
              "      cursor: pointer;\n",
              "      display: none;\n",
              "      fill: #1967D2;\n",
              "      height: 32px;\n",
              "      padding: 0 0 0 0;\n",
              "      width: 32px;\n",
              "    }\n",
              "\n",
              "    .colab-df-convert:hover {\n",
              "      background-color: #E2EBFA;\n",
              "      box-shadow: 0px 1px 2px rgba(60, 64, 67, 0.3), 0px 1px 3px 1px rgba(60, 64, 67, 0.15);\n",
              "      fill: #174EA6;\n",
              "    }\n",
              "\n",
              "    [theme=dark] .colab-df-convert {\n",
              "      background-color: #3B4455;\n",
              "      fill: #D2E3FC;\n",
              "    }\n",
              "\n",
              "    [theme=dark] .colab-df-convert:hover {\n",
              "      background-color: #434B5C;\n",
              "      box-shadow: 0px 1px 3px 1px rgba(0, 0, 0, 0.15);\n",
              "      filter: drop-shadow(0px 1px 2px rgba(0, 0, 0, 0.3));\n",
              "      fill: #FFFFFF;\n",
              "    }\n",
              "  </style>\n",
              "\n",
              "      <script>\n",
              "        const buttonEl =\n",
              "          document.querySelector('#df-0ac02cef-1407-4fd2-a616-c16f1d7430d1 button.colab-df-convert');\n",
              "        buttonEl.style.display =\n",
              "          google.colab.kernel.accessAllowed ? 'block' : 'none';\n",
              "\n",
              "        async function convertToInteractive(key) {\n",
              "          const element = document.querySelector('#df-0ac02cef-1407-4fd2-a616-c16f1d7430d1');\n",
              "          const dataTable =\n",
              "            await google.colab.kernel.invokeFunction('convertToInteractive',\n",
              "                                                     [key], {});\n",
              "          if (!dataTable) return;\n",
              "\n",
              "          const docLinkHtml = 'Like what you see? Visit the ' +\n",
              "            '<a target=\"_blank\" href=https://colab.research.google.com/notebooks/data_table.ipynb>data table notebook</a>'\n",
              "            + ' to learn more about interactive tables.';\n",
              "          element.innerHTML = '';\n",
              "          dataTable['output_type'] = 'display_data';\n",
              "          await google.colab.output.renderOutput(dataTable, element);\n",
              "          const docLink = document.createElement('div');\n",
              "          docLink.innerHTML = docLinkHtml;\n",
              "          element.appendChild(docLink);\n",
              "        }\n",
              "      </script>\n",
              "    </div>\n",
              "  </div>\n",
              "  "
            ]
          },
          "metadata": {},
          "execution_count": 20
        }
      ]
    },
    {
      "cell_type": "markdown",
      "source": [
        "Building a Regression Model"
      ],
      "metadata": {
        "id": "E2a9rkUBdXSa"
      }
    },
    {
      "cell_type": "code",
      "source": [
        "from sklearn.linear_model import LinearRegression\n",
        "reg = LinearRegression().fit(train_X, train_Y)"
      ],
      "metadata": {
        "id": "oKGwdliTdcde"
      },
      "execution_count": 22,
      "outputs": []
    },
    {
      "cell_type": "code",
      "source": [
        "reg"
      ],
      "metadata": {
        "colab": {
          "base_uri": "https://localhost:8080/",
          "height": 74
        },
        "id": "6Pxmvgs5dkxY",
        "outputId": "388fcec1-7831-49e6-8433-92166494491a"
      },
      "execution_count": 23,
      "outputs": [
        {
          "output_type": "execute_result",
          "data": {
            "text/plain": [
              "LinearRegression()"
            ],
            "text/html": [
              "<style>#sk-container-id-1 {color: black;background-color: white;}#sk-container-id-1 pre{padding: 0;}#sk-container-id-1 div.sk-toggleable {background-color: white;}#sk-container-id-1 label.sk-toggleable__label {cursor: pointer;display: block;width: 100%;margin-bottom: 0;padding: 0.3em;box-sizing: border-box;text-align: center;}#sk-container-id-1 label.sk-toggleable__label-arrow:before {content: \"▸\";float: left;margin-right: 0.25em;color: #696969;}#sk-container-id-1 label.sk-toggleable__label-arrow:hover:before {color: black;}#sk-container-id-1 div.sk-estimator:hover label.sk-toggleable__label-arrow:before {color: black;}#sk-container-id-1 div.sk-toggleable__content {max-height: 0;max-width: 0;overflow: hidden;text-align: left;background-color: #f0f8ff;}#sk-container-id-1 div.sk-toggleable__content pre {margin: 0.2em;color: black;border-radius: 0.25em;background-color: #f0f8ff;}#sk-container-id-1 input.sk-toggleable__control:checked~div.sk-toggleable__content {max-height: 200px;max-width: 100%;overflow: auto;}#sk-container-id-1 input.sk-toggleable__control:checked~label.sk-toggleable__label-arrow:before {content: \"▾\";}#sk-container-id-1 div.sk-estimator input.sk-toggleable__control:checked~label.sk-toggleable__label {background-color: #d4ebff;}#sk-container-id-1 div.sk-label input.sk-toggleable__control:checked~label.sk-toggleable__label {background-color: #d4ebff;}#sk-container-id-1 input.sk-hidden--visually {border: 0;clip: rect(1px 1px 1px 1px);clip: rect(1px, 1px, 1px, 1px);height: 1px;margin: -1px;overflow: hidden;padding: 0;position: absolute;width: 1px;}#sk-container-id-1 div.sk-estimator {font-family: monospace;background-color: #f0f8ff;border: 1px dotted black;border-radius: 0.25em;box-sizing: border-box;margin-bottom: 0.5em;}#sk-container-id-1 div.sk-estimator:hover {background-color: #d4ebff;}#sk-container-id-1 div.sk-parallel-item::after {content: \"\";width: 100%;border-bottom: 1px solid gray;flex-grow: 1;}#sk-container-id-1 div.sk-label:hover label.sk-toggleable__label {background-color: #d4ebff;}#sk-container-id-1 div.sk-serial::before {content: \"\";position: absolute;border-left: 1px solid gray;box-sizing: border-box;top: 0;bottom: 0;left: 50%;z-index: 0;}#sk-container-id-1 div.sk-serial {display: flex;flex-direction: column;align-items: center;background-color: white;padding-right: 0.2em;padding-left: 0.2em;position: relative;}#sk-container-id-1 div.sk-item {position: relative;z-index: 1;}#sk-container-id-1 div.sk-parallel {display: flex;align-items: stretch;justify-content: center;background-color: white;position: relative;}#sk-container-id-1 div.sk-item::before, #sk-container-id-1 div.sk-parallel-item::before {content: \"\";position: absolute;border-left: 1px solid gray;box-sizing: border-box;top: 0;bottom: 0;left: 50%;z-index: -1;}#sk-container-id-1 div.sk-parallel-item {display: flex;flex-direction: column;z-index: 1;position: relative;background-color: white;}#sk-container-id-1 div.sk-parallel-item:first-child::after {align-self: flex-end;width: 50%;}#sk-container-id-1 div.sk-parallel-item:last-child::after {align-self: flex-start;width: 50%;}#sk-container-id-1 div.sk-parallel-item:only-child::after {width: 0;}#sk-container-id-1 div.sk-dashed-wrapped {border: 1px dashed gray;margin: 0 0.4em 0.5em 0.4em;box-sizing: border-box;padding-bottom: 0.4em;background-color: white;}#sk-container-id-1 div.sk-label label {font-family: monospace;font-weight: bold;display: inline-block;line-height: 1.2em;}#sk-container-id-1 div.sk-label-container {text-align: center;}#sk-container-id-1 div.sk-container {/* jupyter's `normalize.less` sets `[hidden] { display: none; }` but bootstrap.min.css set `[hidden] { display: none !important; }` so we also need the `!important` here to be able to override the default hidden behavior on the sphinx rendered scikit-learn.org. See: https://github.com/scikit-learn/scikit-learn/issues/21755 */display: inline-block !important;position: relative;}#sk-container-id-1 div.sk-text-repr-fallback {display: none;}</style><div id=\"sk-container-id-1\" class=\"sk-top-container\"><div class=\"sk-text-repr-fallback\"><pre>LinearRegression()</pre><b>In a Jupyter environment, please rerun this cell to show the HTML representation or trust the notebook. <br />On GitHub, the HTML representation is unable to render, please try loading this page with nbviewer.org.</b></div><div class=\"sk-container\" hidden><div class=\"sk-item\"><div class=\"sk-estimator sk-toggleable\"><input class=\"sk-toggleable__control sk-hidden--visually\" id=\"sk-estimator-id-1\" type=\"checkbox\" checked><label for=\"sk-estimator-id-1\" class=\"sk-toggleable__label sk-toggleable__label-arrow\">LinearRegression</label><div class=\"sk-toggleable__content\"><pre>LinearRegression()</pre></div></div></div></div></div>"
            ]
          },
          "metadata": {},
          "execution_count": 23
        }
      ]
    },
    {
      "cell_type": "code",
      "source": [
        "# use the linear regression model to predict\n",
        "predicted = reg.predict(test_X)"
      ],
      "metadata": {
        "id": "aF0V_nGUdmvd"
      },
      "execution_count": 24,
      "outputs": []
    },
    {
      "cell_type": "code",
      "source": [
        "predicted"
      ],
      "metadata": {
        "colab": {
          "base_uri": "https://localhost:8080/"
        },
        "id": "EdTvln1iduFK",
        "outputId": "5a73bed8-afb3-411a-e0a9-4e70333ba76a"
      },
      "execution_count": 25,
      "outputs": [
        {
          "output_type": "execute_result",
          "data": {
            "text/plain": [
              "array([ 5055.,  7645., 11305.,  8845., 11165., 11375., 11735.,  6835.,\n",
              "        7815.,  5895.,  9095.,  8295.,  6695., 11305.,  7205.,  9165.,\n",
              "        8775., 12745.,  9745.,  6655.,  9325.,  7785.,  7075.,  4315.,\n",
              "        9965.,  6855.,  7335.,  8895.,  6325.,  9695.,  6645., 10305.,\n",
              "       10485.,  8195.,  7565., 10355.,  9475., 11115.,  9765., 12825.,\n",
              "        6295.,  5125.,  9825.,  8895., 11715.,  6205.,  4095., 11475.,\n",
              "        9565.,  5535., 11455., 10395.,  4125.,  7735., 13055.,  9595.,\n",
              "        6445.,  8365., 10155.,  7835.,  8275., 14305.,  7075.,  8435.,\n",
              "       12625.,  7095., 11435., 10555., 10095.,  5535.,  8235., 12095.,\n",
              "        4215.,  5865.,  9355.,  9245.,  7065., 11625., 10855., 10825.,\n",
              "        8785.,  7355., 11865.,  8315., 11805.,  5945.,  8775.,  8275.,\n",
              "        7165.,  8245.,  7575., 11925., 11965.,  7975.,  6645., 10795.,\n",
              "       11235.,  8195.,  9355.,  7445.,  7235.,  8935.,  4575.,  9675.,\n",
              "        5735.,  5075., 10645.,  9705.,  8605., 12515.,  8165.,  6105.,\n",
              "        9175.,  6705.,  9265.,  9605.,  9925.,  7345.,  9215.,  7785.,\n",
              "        8395.,  7535.,  6565.,  8665., 12195., 10195., 10905.,  5785.,\n",
              "        5225.,  6095.,  3845.,  6235.,  9975.,  6465., 11025.,  6565.,\n",
              "        4975., 11695.,  8105.,  9135., 10605., 10325.,  5505.,  7435.,\n",
              "        8895., 11485.,  5995.,  7265.,  5185., 10695., 13005.,  9735.,\n",
              "       10425., 11185.,  8295., 11925.,  7745.,  8005., 10355., 10035.,\n",
              "       11995.,  8665., 10825.,  6935.,  9425.,  9695., 12285.,  7405.,\n",
              "       11715.,  5595.,  9305.,  8145., 10905.,  5655.,  6645.,  7815.,\n",
              "        8195.,  9665.,  7865., 10445., 11795.,  8305.,  8885.,  8325.,\n",
              "        5175.,  9645.,  8895.,  8645., 10135.,  7705.,  5865.,  8405.,\n",
              "        5345.,  6275.,  7275.,  7345., 11795.,  9905.,  5715., 11345.,\n",
              "        9535.,  7525., 12955.,  5345.,  7995.,  7885., 10225.,  8365.,\n",
              "       10165., 11935., 10685.,  8895.,  8975.,  8135.,  9325., 12165.,\n",
              "        9605.,  6965.,  6075.,  5475., 12635.,  4105.,  5745.,  8745.,\n",
              "        8835.,  6165.,  7845.,  6545.,  7785.,  4705., 12865.,  7995.,\n",
              "        7435.,  9195.,  6135., 13685.,  9045., 10355.,  8835.,  6835.,\n",
              "        5535.,  8005.,  7405.,  8785.,  8765., 11625.,  9135., 10875.,\n",
              "       11295.,  7765.,  9105.,  8315.,  6675.,  5575.,  7395.,  6805.,\n",
              "        9625.,  8055.,  6035.,  6665., 11205.,  9945.,  5275.,  8965.,\n",
              "       11305.,  6985.,  7305., 10705.,  7745., 11145., 11795.,  5455.,\n",
              "        6415.,  9515.,  8435.,  9545.,  8805.,  4205., 10605.,  9005.,\n",
              "        2775.,  9705., 12465., 10445.,  4745., 11055., 11905.,  6465.,\n",
              "       10055.,  9375., 10905.,  9195., 11435.,  9475.,  9295., 10105.,\n",
              "        9085.,  5385.,  8945., 10495.,  8855., 11325.,  8545.,  8095.,\n",
              "        6525.,  7065.,  9165., 10395.,  8455., 10705.,  9945., 11615.,\n",
              "        7455.,  8965.,  8365.,  5865.,  8405.,  8445.,  9675.,  7705.,\n",
              "        8055.,  7405.,  9715.,  7555.,  9455.,  6295.,  9455.,  7475.,\n",
              "        8265.,  5905.,  7735.,  7755.,  8715.,  5595.,  8285.,  9675.,\n",
              "        7345., 11175.,  7875.,  6575., 10245.,  7785.,  4065., 12385.,\n",
              "        8205., 12695.,  9025., 10145.,  6875.,  5865., 11655., 11035.,\n",
              "        4235.,  7175., 10195.,  6385.,  7225.,  9485., 12495.,  8605.,\n",
              "        4835.,  6265.,  6545.,  8165.,  9495.,  8955.,  5535.,  5985.,\n",
              "        6895.,  8415., 10175., 11495.,  9425.,  9215.,  8425.,  7865.,\n",
              "        9355.,  4575.,  9105.,  4875.,  8335.,  7855.,  6855.,  8685.,\n",
              "        7065.,  5745.,  8545.,  9005.,  4565.,  3335.,  7695.,  5915.,\n",
              "        9945.,  7365.,  8055.,  7965.,  6375.,  6735.,  8595.,  7935.,\n",
              "        7995.,  7265.,  4795.,  9235.,  9215., 10665., 10865.,  8145.,\n",
              "        7175.,  7045.,  8585.,  8965.,  5015.,  4845.,  8435., 11655.,\n",
              "        7115., 10345.,  5975., 11625.,  8615., 12565., 11555.,  9245.,\n",
              "       10975., 12135., 11625.,  7905., 10195., 11305.,  8815.,  6865.,\n",
              "       13325.,  6795., 10015.,  7245., 11295.,  6995.,  5885.,  8135.,\n",
              "        6905.,  5495.,  8395.,  7905.,  7805.,  8855., 10965., 12825.,\n",
              "        8245.,  6635.,  7635.,  9955.,  7545.,  8665.,  8145.,  7205.,\n",
              "        8865.,  6395.,  8135.,  8185.,  9775.,  9625.,  5145.,  5495.,\n",
              "        6845.,  9525.,  7915.,  7085.,  6425.,  7055.,  8295.,  9735.,\n",
              "        8615., 11065.,  5625.,  8265.,  9365.,  6195.,  7535.,  9255.,\n",
              "        9485., 10195.,  6815.,  8085.,  7555.,  9525.,  5315., 11135.,\n",
              "        7325.,  8555., 10935.,  8555.,  7415.,  9585.,  5955.,  5735.,\n",
              "        9115.,  5405., 10905.,  8265.,  9845., 10615.,  8685.,  7005.,\n",
              "        8275.,  6945.,  8385.,  9175.,  9865.,  9235.,  8715., 10335.,\n",
              "        8695.,  5875., 10135.,  5675., 12005.,  3605.,  4105.,  9695.,\n",
              "       12595., 13805.,  6405., 12705., 12235.,  5935.,  8435.,  9055.,\n",
              "        8265.,  9675., 11075.,  4165.,  7435.,  9405.,  9465.,  7905.,\n",
              "        5305.,  9055., 10705.,  9875.,  6935., 10835.,  7325., 13055.,\n",
              "        6095., 11825., 11895.,  7545.,  7535.,  5365.,  2675., 13455.,\n",
              "       10215.,  7985.,  6815., 12225.,  8565.,  7995., 12065.,  9905.,\n",
              "        9285., 10275.,  7485.,  9325.,  4305.,  5585., 10905.,  6005.,\n",
              "        7555.,  4505.,  7905.,  5715., 10105.,  8795., 11245.,  8605.,\n",
              "        8475.,  7645.,  6245.,  6915.,  8655., 11795.,  7825.,  8815.,\n",
              "        9935.,  9205., 11505.,  9675.,  9475., 10035.,  9325.,  6675.,\n",
              "       10295.,  6395., 10475.,  6865.,  8375.,  5885.,  7745.,  9855.,\n",
              "        9595., 11845.,  7565.,  8365.,  3915.,  8875.,  8495.,  7455.,\n",
              "        9715., 11255.,  2905.,  9405., 12765.,  9905.,  6695.,  5715.,\n",
              "       12105., 12465.,  7005.,  8685.,  9215.,  8975.,  9735.,  7865.,\n",
              "        9295., 10765.,  7845.,  8365.,  8705.,  6575., 11975.,  8865.,\n",
              "        8165.,  7765.,  7835.,  9425.,  7385.,  6595.,  5765.,  5805.,\n",
              "       10805., 10335.,  7025., 12065.,  8805.,  8055., 11195.,  5645.,\n",
              "        9475.,  6345., 12885.,  7675.,  9105., 10475.,  6225.,  6975.,\n",
              "        6075.,  8105.,  9795.,  7075.,  3765.,  8205.,  8465.,  5585.,\n",
              "       10995.,  9055.,  7365.,  4975.,  6455., 11235.,  8265., 12105.,\n",
              "        7295.,  9735.,  9215.,  9635.,  4755.,  4595., 11695.,  9145.,\n",
              "        8295., 10245.,  8205., 10465.,  3175.,  7635.,  9645.,  7415.,\n",
              "        6905.,  8745.,  9095., 11025., 11885.,  4855.,  7355., 11625.,\n",
              "        8065.,  8965., 10095.,  5115., 10815., 11065.,  7225.,  8555.,\n",
              "        8095.,  6815.,  8475.,  9175.,  3945., 10295., 10395., 12535.,\n",
              "        8735.,  4535., 10405.,  5135.,  9135.,  6805.,  8995.,  5075.,\n",
              "        8975.,  6105.,  9205.,  7435.,  5405.,  7965.,  8535.,  7935.,\n",
              "       10885., 10155., 11755., 10215.,  3415.,  9655., 13055.,  8765.,\n",
              "        7765.,  9365.,  8205.,  9975., 10605.,  8725.,  8525.,  3215.,\n",
              "        5175.,  7765.,  9055., 11535.,  8205., 11195., 11655.,  6835.,\n",
              "        3635.,  9675., 10305.,  9325.,  8195., 10365.,  9735., 10015.,\n",
              "       10215., 11205., 10735.,  5935., 10075., 11915.,  8675., 13925.,\n",
              "        9775.,  5575., 11335., 11065.,  9735.,  4445., 12285.,  6955.,\n",
              "       10455., 11475., 11105.,  9425.,  8085., 14005.,  7645., 10345.,\n",
              "        7125.,  8165.,  7295.,  7205.,  9065.,  9875.,  6765.,  7735.,\n",
              "       10415.,  9555.,  6145.,  6315., 14235.,  9145.,  8485.,  8885.,\n",
              "        8385.,  6395.,  5595.,  5625.,  9175.,  7975.,  8355., 10405.,\n",
              "        8995., 11605.,  5715.,  7115.,  8735.,  7005.,  6345., 12245.,\n",
              "        5875., 11255., 10465.,  8285., 11735., 11415., 11665.,  9135.,\n",
              "       10165.,  7055.,  8525.,  7845.,  6835., 12225.,  7385., 10005.,\n",
              "        7345.,  3405.,  9645.,  7745.,  8265.,  9495.,  6145., 10245.,\n",
              "        6805., 10965., 11115.,  6435., 11965., 10045.,  5175.,  9535.,\n",
              "        7325.,  4805., 12065.,  8265.,  8875., 11225.,  8535.,  9645.,\n",
              "        9275.,  5665.,  7315.,  6015.,  7965.,  5625., 12145.,  9035.,\n",
              "       13445.,  5715.,  6005.,  5365.,  3405., 10175.,  8565., 11235.,\n",
              "        4625.,  6025.,  7365.,  6625.,  9665., 11415.,  7855.,  5705.,\n",
              "        7555.,  9675.,  5475.,  6455.,  8085.,  9595.,  8395.,  6975.,\n",
              "        6795., 10285., 11445.,  5155.,  8675., 12825.,  3475., 10685.,\n",
              "       11705.,  8295.,  7275.,  9435., 10125.,  6605.,  9805., 11505.,\n",
              "        7575.,  7925., 10005.,  9225.,  4375.,  8105., 12705.,  4415.,\n",
              "        7575., 10235.,  7605., 10665.,  9555.,  6905.,  7045.,  4995.,\n",
              "        8075.,  9265.,  8755.,  8165., 13435.,  7765.,  9135.,  8795.,\n",
              "        5905.,  9545.,  8555.,  8925.,  9805.,  7165.,  9875.,  9765.,\n",
              "        5075., 11495.,  5735.,  6895., 11215., 12695., 13445., 12455.,\n",
              "        8765.,  7435.,  9805., 10795.,  7865., 13995.,  8115.,  8595.,\n",
              "       10805., 11395.,  5415.,  5345.,  9855.,  6895., 11055., 12835.,\n",
              "        8725.,  7355.,  5585.,  8215., 13825.,  9115.,  9875.,  5705.,\n",
              "        6165., 10455., 13175., 12115.,  9655.,  9565.,  8765.,  8725.,\n",
              "       11435.,  8085.,  6425.,  5005., 12465., 10535.,  8335.,  5025.,\n",
              "        9555.,  5455.,  2735.,  7605., 10845.,  6655., 10055., 11765.,\n",
              "        9775.,  5475., 10075.,  9775.,  9375.,  8515.,  6105.])"
            ]
          },
          "metadata": {},
          "execution_count": 25
        }
      ]
    },
    {
      "cell_type": "code",
      "source": [
        "print(reg.score(train_X, train_Y))"
      ],
      "metadata": {
        "colab": {
          "base_uri": "https://localhost:8080/"
        },
        "id": "G2zrSyQVd9Y8",
        "outputId": "e74dbf2f-fc52-4777-aca3-7ad2f0480183"
      },
      "execution_count": 26,
      "outputs": [
        {
          "output_type": "stream",
          "name": "stdout",
          "text": [
            "1.0\n"
          ]
        }
      ]
    },
    {
      "cell_type": "code",
      "source": [
        "print(mean_absolute_error(test_Y, predicted))"
      ],
      "metadata": {
        "colab": {
          "base_uri": "https://localhost:8080/"
        },
        "id": "sme-UAGxeFZ3",
        "outputId": "9412255d-5077-4b4b-8198-d4bc53c0dcff"
      },
      "execution_count": 27,
      "outputs": [
        {
          "output_type": "stream",
          "name": "stdout",
          "text": [
            "13.000000000000469\n"
          ]
        }
      ]
    },
    {
      "cell_type": "code",
      "source": [
        "predicted.mean()"
      ],
      "metadata": {
        "colab": {
          "base_uri": "https://localhost:8080/"
        },
        "id": "CJSX4vbtve5-",
        "outputId": "7237fccc-a929-4ee1-8cfa-84c2ce500b53"
      },
      "execution_count": 70,
      "outputs": [
        {
          "output_type": "execute_result",
          "data": {
            "text/plain": [
              "8588.863863863864"
            ]
          },
          "metadata": {},
          "execution_count": 70
        }
      ]
    },
    {
      "cell_type": "code",
      "source": [
        "make_plot(test_Y, predicted)"
      ],
      "metadata": {
        "colab": {
          "base_uri": "https://localhost:8080/",
          "height": 487
        },
        "id": "iVGsSuL7eZJQ",
        "outputId": "d72008e7-d9bf-45ff-a4fc-d7e7c9ec64d6"
      },
      "execution_count": 28,
      "outputs": [
        {
          "output_type": "display_data",
          "data": {
            "text/plain": [
              "<Figure size 640x480 with 1 Axes>"
            ],
            "image/png": "[encoded data removed]"
          },
          "metadata": {}
        }
      ]
    },
    {
      "cell_type": "markdown",
      "source": [
        "###Random Forest Regression"
      ],
      "metadata": {
        "id": "GubtkUqvaT9O"
      }
    },
    {
      "cell_type": "code",
      "source": [
        "# Now let's do random forest regression\n",
        "from sklearn.ensemble import RandomForestRegressor\n",
        "rf_reg = RandomForestRegressor().fit(train_X, train_Y)\n",
        "rf_predicted = rf_reg.predict(test_X)\n",
        "print(rf_reg.score(train_X, train_Y))\n",
        "print(mean_absolute_error(test_Y, rf_predicted))"
      ],
      "metadata": {
        "colab": {
          "base_uri": "https://localhost:8080/"
        },
        "id": "R03HDewlekMJ",
        "outputId": "b0d48f56-84ae-477f-b23d-8c824e143703"
      },
      "execution_count": 29,
      "outputs": [
        {
          "output_type": "stream",
          "name": "stdout",
          "text": [
            "0.9984530928600467\n",
            "173.75095095095094\n"
          ]
        }
      ]
    },
    {
      "cell_type": "code",
      "source": [
        "rf_predicted"
      ],
      "metadata": {
        "colab": {
          "base_uri": "https://localhost:8080/"
        },
        "id": "qFxqiExQwj41",
        "outputId": "3df076b2-5468-45c9-c178-4040a785e863"
      },
      "execution_count": 58,
      "outputs": [
        {
          "output_type": "execute_result",
          "data": {
            "text/plain": [
              "array([ 5320.9,  7736.7, 11482.5,  8835.9, 11092.1, 11476.6, 11727.7,\n",
              "        6922.8,  7887.6,  5895.1,  9164.3,  8563.5,  7088.8, 11292. ,\n",
              "        7343.2,  9495.1,  8957.7, 12773.3,  9774.9,  7048.5,  8899.9,\n",
              "        7451.4,  7070.2,  4202.8, 10063.8,  7338.8,  7265.2,  9037.3,\n",
              "        6830.8,  9293.8,  6614.9, 10022.1, 10507.7,  8260.5,  7730.7,\n",
              "       10253.6,  9270.2, 11084.7,  9413.1, 13290.8,  6639.5,  5230.3,\n",
              "        9970.4,  8956.2, 11572.6,  6135.9,  4354.1, 11415.3,  9611.2,\n",
              "        5502.7, 11523.8, 10556.1,  4829. ,  7886.2, 13657.6,  9683.4,\n",
              "        6178.1,  8398.3, 10088.7,  7795.5,  7866.9, 13511.5,  7286.8,\n",
              "        8453. , 12537.4,  7115.7, 11332.2, 10556.2,  9944.7,  5556. ,\n",
              "        8198.3, 12138.2,  4161.5,  6279.6,  9554. ,  8656.3,  6949.6,\n",
              "       11255.4, 10917.7, 10656.3,  8839.2,  7345.3, 12019.2,  8120.8,\n",
              "       11679. ,  6223.3,  8736.8,  8241.6,  6872.1,  8305.1,  7621.4,\n",
              "       12128.6, 11785.3,  7919.4,  6614.9, 11046.4, 11136.7,  8340.9,\n",
              "        9182.8,  7342.9,  7046.9,  8729.1,  4511. ,  9864.7,  5854.9,\n",
              "        4711.2, 10636.1,  9749.7,  8516.4, 12710.2,  7829.7,  6116.7,\n",
              "        9219.2,  6514. ,  9196.9,  9676.4, 10145.8,  7184.8,  8930.6,\n",
              "        7433.4,  7898.5,  7350.3,  6698.2,  8558.3, 12408.2, 10253.9,\n",
              "       10656.9,  5784.8,  5251.4,  6134.8,  3764.7,  6216.3,  9808.4,\n",
              "        5988.3, 10991.2,  6555.6,  5117.9, 11687.7,  8101.9,  8776.9,\n",
              "       10856.7,  9989.9,  5970.9,  7582.1,  8684.7, 11439.6,  6407. ,\n",
              "        7149.7,  5443. , 10666.8, 12639.7,  9554.7, 10331.5, 11230.1,\n",
              "        8187. , 12128.6,  7392. ,  7841.9, 10212.6, 10277.8, 12231.6,\n",
              "        8923. , 10757.1,  6892.1,  9441.3,  9301.6, 12389.9,  7489.8,\n",
              "       11572.6,  5601.5,  9508.8,  8015.9, 10861.2,  5497.7,  6486.1,\n",
              "        7329.1,  8332.8,  9668.1,  7735. , 10661.3, 11411.3,  8278.6,\n",
              "        8871.1,  7960.4,  5592.3,  9345.3,  8480.2,  7924.8,  9927. ,\n",
              "        7518.9,  6279.6,  8070.4,  5173. ,  6505.4,  7275.6,  7184.8,\n",
              "       11700.8,  9608.2,  5669.9, 11294.7,  9057.6,  7933.4, 12949.2,\n",
              "        5173. ,  8048.4,  7706.6,  9712.7,  8282.3, 10315. , 11568.2,\n",
              "       11171.3,  8981.9,  8929.8,  8089.4,  9166. , 11925.2,  9578. ,\n",
              "        6974.4,  6046.4,  5545.5, 12557.9,  4346.5,  6196.1,  9161.6,\n",
              "        8909.6,  6183.6,  7801.4,  6911.3,  7433.4,  4960.8, 13336.4,\n",
              "        8003.2,  7426. ,  9175.7,  6647.8, 13698.7,  8792.1, 10203.9,\n",
              "        8367.1,  6793.8,  5965.2,  7951.1,  7390.7,  8839.2,  8741.6,\n",
              "       11431.8,  9244.6, 10836.8, 11358.7,  8175.3,  9130.8,  8120.8,\n",
              "        6126.8,  5433.1,  7376.2,  6876.9,  9460.5,  7580. ,  6372.4,\n",
              "        6977.9, 11133.7,  9786.7,  5342. ,  8910.1, 11102.2,  6991.7,\n",
              "        7355. , 10399.2,  7171. , 11035.1, 11996.9,  5394.4,  6226.2,\n",
              "        9482.6,  8404.8,  9678.5,  8940.8,  3777.7, 10856.7,  8862. ,\n",
              "        2962.6,  9512.4, 12503. , 10750. ,  4743.8, 10817.6, 11523.9,\n",
              "        6390.5,  9960.2,  8970.1, 10901.2,  9304.8, 11428.9,  9395.3,\n",
              "        9468.2,  9871.2,  9004.5,  5207.5,  8520.5, 10846.7,  8535.4,\n",
              "       11582.7,  8672. ,  8141. ,  6637.1,  6972.9,  9350.5, 10375.1,\n",
              "        8794.8, 10760. , 10058.5, 11378.8,  7898.5,  8997.4,  8261.7,\n",
              "        6354.6,  8070.4,  8444.6,  9712.1,  8052.8,  7944.4,  7313.2,\n",
              "       10244.2,  7586.3,  9234.2,  6479.2,  9335.4,  7337.4,  8388.4,\n",
              "        6027.9,  7662.7,  8063.3,  8591.9,  5783.9,  7866.2,  9356.9,\n",
              "        6967.5, 10946.4,  7973.7,  6417.2, 10142.3,  7451.4,  4165. ,\n",
              "       12300.3,  8379.4, 12497.6,  9168.5,  9655.5,  6734.5,  5875.4,\n",
              "       11624.2, 10969.6,  4661.5,  7347.7, 10278.8,  6477.2,  7210. ,\n",
              "        9399.1, 12242.8,  8516.4,  4557.5,  5912.9,  6556.3,  8314. ,\n",
              "        9367.7,  8766.1,  5621.8,  6136.8,  6767.3,  8546.6,  9832. ,\n",
              "       11422.6,  9502.2,  8964.4,  8501.7,  7960.6,  9419.3,  4501.3,\n",
              "        9130.8,  4888.4,  8238.9,  7806.7,  6963.4,  8448.3,  7490.5,\n",
              "        5937.5,  8579. ,  8543.4,  4931.6,  3678.3,  7545.3,  6034.3,\n",
              "        9895.3,  7156.2,  8058.8,  7646.9,  6044.3,  6825.8,  8602.6,\n",
              "        7858.6,  8005.6,  7688.5,  4927.7,  9228.4,  8930.6, 10353. ,\n",
              "       11238.6,  7798.1,  7026.9,  7214.3,  8432.4,  9118.3,  4857.4,\n",
              "        4864.6,  8494.7, 11818.4,  7315.6, 10328.7,  6165.5, 11810.9,\n",
              "        8924.3, 12527.5, 11628.4,  9609.2, 11356.8, 12287.9, 11610. ,\n",
              "        7875.9, 10189. , 11275.2,  9205.5,  6986.3, 13083.7,  6841.9,\n",
              "       10289. ,  7095. , 11369.8,  7284.8,  6057. ,  7561.9,  6786.8,\n",
              "        5476.7,  8577.5,  7821.5,  7612.7,  9128.1, 10906.1, 12910.4,\n",
              "        8736.7,  6746.9,  7855.2,  9959.4,  7815.9,  8247.8,  8237.3,\n",
              "        7324.8,  9149.7,  6575.2,  8449.8,  8135.8,  9681.4,  9975.4,\n",
              "        5093.4,  5578.9,  7107.8,  9387.8,  8418.9,  7029. ,  6398.7,\n",
              "        7470.9,  8381.5,  9713.7,  8503.7, 11076.5,  6100.5,  8445.4,\n",
              "        9385.3,  6411.7,  7675.6,  9306.8,  9677.1, 10353. ,  6376.1,\n",
              "        7935.1,  7356. ,  9940. ,  5218. , 10748.3,  7266.3,  8542.7,\n",
              "       10799.5,  8542.7,  7222.8,  9533. ,  5762. ,  5763.3,  9137.2,\n",
              "        5850.9, 10861.2,  8143.5,  9833.2, 10468.1,  8448.3,  7081.9,\n",
              "        8241.6,  6794.6,  8954.8,  8891.9,  9533.9,  9011.8,  8725.4,\n",
              "       10123.1,  8710.8,  5881.4, 10347.5,  5327.1, 11814.7,  3371.4,\n",
              "        3910.2,  9364.1, 12540.6, 13924.8,  6051. , 12373.2, 12002.6,\n",
              "        5932.2,  8429.3,  9240. ,  8218.5,  9423.1, 11217.5,  4636.8,\n",
              "        7328.3,  9239.3,  9707.5,  7154. ,  5007.6,  9240. ,  9779.3,\n",
              "        9758.8,  6845.5, 10759.9,  7343. , 13143.8,  6350.1, 11938.6,\n",
              "       11665.2,  7815.9,  7350.3,  5664.4,  2750.4, 13442. , 10239.9,\n",
              "        8039.9,  6952.4, 12277.4,  8612.1,  8003.2, 12091.7, 10164.8,\n",
              "        9678.9,  9926.2,  7462.7,  9563.5,  4466.6,  5428.4, 10416. ,\n",
              "        6006.8,  7564.4,  4695.1,  7875.9,  5735.3, 10313.3,  8483.9,\n",
              "       11041.3,  8502.2,  8368.2,  7603.4,  6689.5,  7282.9,  9020.5,\n",
              "       11700.8,  7876.3,  8843.7,  9523.2,  8907.3, 11485.7,  9694.5,\n",
              "        9417.5, 10277.8,  9323.1,  6959.6, 10488.1,  6035.9, 10616.5,\n",
              "        7099.9,  8174.3,  5859.8,  7171. , 10007.5,  9350.8, 11797.5,\n",
              "        7637. ,  8398.3,  3847.8,  8429.6,  8635.5,  7196.4,  9622.9,\n",
              "       11165.7,  3105. ,  9239.3, 12989.2, 10115.9,  7088.8,  5735.3,\n",
              "       12114. , 12774. ,  7337.2,  8744.8,  9552.6,  9441.3,  9549.9,\n",
              "        7967.2,  9419.7, 10679.5,  7759.6,  8168. ,  8446.8,  6799.7,\n",
              "       12076. ,  8890.2,  8111.4,  7842.6,  7743.3,  9572.8,  7467.1,\n",
              "        6586.8,  6050.6,  5598.7, 10928.3,  9910.2,  7190.2, 11921.6,\n",
              "        8701.5,  8428.1, 11132.4,  5721.2,  9148.5,  6719.8, 12891.8,\n",
              "        8422.7,  9197.4, 10457.5,  6170.3,  6917.9,  6053.7,  7988.6,\n",
              "        9579. ,  7079.6,  4097.8,  8392.4,  8751.5,  5674.2, 10791.6,\n",
              "        9215.1,  7502.1,  5394.4,  6444.6, 10995.4,  8481.2, 12114. ,\n",
              "        7289.6,  9766.1,  9552.6,  9531. ,  4457.8,  4552.7, 11735.3,\n",
              "        8921.3,  7804.2,  9995.1,  7814.8, 10438.6,  3395.7,  7855.2,\n",
              "        9660.3,  7420.7,  6940.8,  8573.7,  9398.4, 10991.2, 11912.1,\n",
              "        4906.3,  7236.3, 11756.5,  8163.1,  8863.7,  9683.4,  5129.7,\n",
              "       10432.8, 11353.5,  7114.5,  8273.4,  8082.1,  6559.6,  8368.2,\n",
              "        9600. ,  3558.6, 10488.1, 10459.8, 12278.6,  9030.2,  4567.8,\n",
              "        9974.9,  5113.3,  9044.6,  6883.9,  9165.6,  4711.2,  8725. ,\n",
              "        6373.7,  9499.7,  7582.1,  5375.2,  7980.9,  8419.4,  7938.7,\n",
              "       10735. , 10305.1, 12053.3,  9944.4,  3642.7,  9779.7, 12867.9,\n",
              "        9098.1,  7722.9,  9259. ,  8379.4,  9798.7, 10693.4,  8920. ,\n",
              "        8569.3,  3746.6,  5592.3,  8000.5,  9021. , 11295.8,  8156.8,\n",
              "       11548.1, 12073.9,  6871.3,  3800.6,  9694.5, 10275.9,  9563.5,\n",
              "        8276.1, 10371.6,  9371. ,  9927.9, 10239.9, 11018.7, 10671.3,\n",
              "        5722.2,  9753.4, 11810. ,  8438.4, 13778.9,  9764.6,  6016.5,\n",
              "       11404.8, 11076.5,  9182. ,  4735.2, 12389.9,  6849.6, 10302.2,\n",
              "       11188.8, 10980.3,  9394.9,  7935.1, 13160.9,  7598.9, 10377.5,\n",
              "        7163.4,  8177.4,  7205. ,  7001.8,  8534.3,  9740.7,  6905.2,\n",
              "        7404.5,  9945.3,  9424.2,  6419.7,  6428.9, 14118. ,  8600.7,\n",
              "        8742.9,  8871.1,  8954.8,  6481.1,  5668.2,  6100.5,  9116.8,\n",
              "        8559.7,  8328.2, 10370.8,  9165.6, 11436.4,  5735.6,  7315.6,\n",
              "        8375.6,  6994.1,  6020. , 12352.3,  5908.9, 11237.1, 10340.7,\n",
              "        8563.6, 11386. , 11422.2, 11726.2,  9148.1, 10279.3,  6878. ,\n",
              "        8636.7,  7813.4,  6677.7, 11984.4,  7279.2,  9961.6,  7397.1,\n",
              "        3366.3,  9835.2,  7851.4,  8620.7,  9495.3,  6043. , 10322.5,\n",
              "        7028.8, 11229.3, 11084.7,  6234.7, 11951.9,  9731.3,  5162.9,\n",
              "        9479.7,  7302.5,  4712.7, 11921.6,  8206.7,  8801.8, 10940.9,\n",
              "        8770.3,  9382. ,  9158.1,  5742.5,  7273.2,  5877.8,  8348.9,\n",
              "        6100.5, 11729.2,  9021.3, 13608. ,  5735.6,  5968.8,  5333.8,\n",
              "        3366.3,  9499.1,  8438.2, 11223.5,  4639.3,  6078.2,  7165.8,\n",
              "        7094.1,  9577.9, 11405.5,  8354. ,  5613.1,  7531.9,  9613.3,\n",
              "        5656.2,  6444.6,  7943.5,  9892.1,  8480.1,  6913.4,  6919.2,\n",
              "       10160.2, 11682.4,  5260.1,  8659.6, 12516.2,  3518.6, 10832.5,\n",
              "       11773.9,  8767.2,  7459.1,  9500.4,  9993.4,  6377.2,  9317.7,\n",
              "       11485.7,  7790.8,  8031.8,  9986.5,  9085.9,  4560.5,  8087.1,\n",
              "       12351.2,  4428.8,  7577.7, 10074.9,  7533.3, 10362. ,  9825.4,\n",
              "        6942.1,  7214.3,  5068.1,  8075.9,  9391.3,  9074.1,  8294.7,\n",
              "       13295.8,  7860.1,  9162.4,  9300.6,  5777.7,  9594.9,  8518.4,\n",
              "        8843.5,  9915.3,  6806.8,  9789.5,  9982.4,  5083.9, 11674.8,\n",
              "        5723.6,  7187.6, 10811.9, 12702. , 13126. , 12609.7,  8741.6,\n",
              "        7426. ,  9620.2, 10945.7,  7973.2, 13993.2,  8132.2,  8602.6,\n",
              "       10907.8, 11560.4,  5669.4,  5565.3, 10007.5,  7393. , 11122.8,\n",
              "       12839.9,  8799.2,  7224.9,  5508.2,  8266. , 13407.8,  9088.5,\n",
              "        9758.8,  5613.1,  6344.6, 10513.1, 12718.9, 11982.8,  9695.3,\n",
              "        9420.2,  8885.8,  8768.8, 11332.2,  8272.5,  6523.3,  5316. ,\n",
              "       12774. , 10314.6,  8379. ,  5049.5,  9550. ,  5383.3,  2939.9,\n",
              "        7529.7, 10585.7,  6995.8,  9927.2, 11322. , 10082.7,  5656.2,\n",
              "        9846.1,  9764.6,  8908.9,  8607.1,  6230.8])"
            ]
          },
          "metadata": {},
          "execution_count": 58
        }
      ]
    },
    {
      "cell_type": "code",
      "source": [
        "rf_predicted.mean()"
      ],
      "metadata": {
        "colab": {
          "base_uri": "https://localhost:8080/"
        },
        "id": "mOCcBhY5xrPX",
        "outputId": "f6c3a991-6447-4ffb-9237-6b4b4365372d"
      },
      "execution_count": 61,
      "outputs": [
        {
          "output_type": "execute_result",
          "data": {
            "text/plain": [
              "8584.953953953955"
            ]
          },
          "metadata": {},
          "execution_count": 61
        }
      ]
    },
    {
      "cell_type": "code",
      "source": [
        "make_plot(test_Y, rf_predicted)"
      ],
      "metadata": {
        "colab": {
          "base_uri": "https://localhost:8080/",
          "height": 487
        },
        "id": "hAPNviv_es3E",
        "outputId": "5ecf2091-411b-4f4b-a0b3-d52fc148b799"
      },
      "execution_count": 30,
      "outputs": [
        {
          "output_type": "display_data",
          "data": {
            "text/plain": [
              "<Figure size 640x480 with 1 Axes>"
            ],
            "image/png": "[encoded data removed]"
          },
          "metadata": {}
        }
      ]
    },
    {
      "cell_type": "code",
      "source": [
        "rf_reg.feature_importances_"
      ],
      "metadata": {
        "colab": {
          "base_uri": "https://localhost:8080/"
        },
        "id": "2C597y-6eya8",
        "outputId": "e4f34499-17ea-4af8-c434-61909b48d630"
      },
      "execution_count": 31,
      "outputs": [
        {
          "output_type": "execute_result",
          "data": {
            "text/plain": [
              "array([0.42962214, 0.00469722, 0.01111163, 0.00880264, 0.01456982,\n",
              "       0.19979488, 0.00683567, 0.11305919, 0.17698472, 0.00884268,\n",
              "       0.02567942])"
            ]
          },
          "metadata": {},
          "execution_count": 31
        }
      ]
    },
    {
      "cell_type": "code",
      "source": [
        "train.columns"
      ],
      "metadata": {
        "colab": {
          "base_uri": "https://localhost:8080/"
        },
        "id": "b6mEwbkWe2lD",
        "outputId": "2d3b6f7b-c9ea-4555-dba7-67a6310b7e95"
      },
      "execution_count": 32,
      "outputs": [
        {
          "output_type": "execute_result",
          "data": {
            "text/plain": [
              "Index(['room', 'bathroom', 'kitchen', 'french_door', 'backyard', 'furnished',\n",
              "       'green_paint', 'solar_power', 'woodfloor', 'qlm_security',\n",
              "       'club_access', 'price'],\n",
              "      dtype='object')"
            ]
          },
          "metadata": {},
          "execution_count": 32
        }
      ]
    },
    {
      "cell_type": "code",
      "source": [
        "imp_scores = zip(rf_reg.feature_importances_, train.columns)\n",
        "sorted(list(imp_scores), reverse=True)"
      ],
      "metadata": {
        "colab": {
          "base_uri": "https://localhost:8080/"
        },
        "id": "glc67z-Te6wW",
        "outputId": "1b4094cd-632b-48a8-a45a-bcae3ec6932a"
      },
      "execution_count": 33,
      "outputs": [
        {
          "output_type": "execute_result",
          "data": {
            "text/plain": [
              "[(0.42962213700561513, 'room'),\n",
              " (0.19979487806969393, 'furnished'),\n",
              " (0.17698472070507684, 'woodfloor'),\n",
              " (0.11305918537874643, 'solar_power'),\n",
              " (0.025679423023216113, 'club_access'),\n",
              " (0.014569815033600947, 'backyard'),\n",
              " (0.011111627953263384, 'kitchen'),\n",
              " (0.008842681881401164, 'qlm_security'),\n",
              " (0.00880264440934209, 'french_door'),\n",
              " (0.006835670145069091, 'green_paint'),\n",
              " (0.004697216394974974, 'bathroom')]"
            ]
          },
          "metadata": {},
          "execution_count": 33
        }
      ]
    },
    {
      "cell_type": "code",
      "source": [
        "rf_importances = rf_reg.feature_importances_\n",
        "rf_reg.feature_names_in_\n",
        "ranks_and_features = zip(rf_importances, rf_reg.feature_names_in_)\n",
        "ranks_and_features = sorted(ranks_and_features,reverse=True)\n",
        "for x, y in ranks_and_features:\n",
        "    print(x, y)"
      ],
      "metadata": {
        "colab": {
          "base_uri": "https://localhost:8080/"
        },
        "id": "kymm9wUqfCV5",
        "outputId": "ceb2be2b-eb02-41ed-e6f2-8181fc696acc"
      },
      "execution_count": 34,
      "outputs": [
        {
          "output_type": "stream",
          "name": "stdout",
          "text": [
            "0.42962213700561513 room\n",
            "0.19979487806969393 furnished\n",
            "0.17698472070507684 woodfloor\n",
            "0.11305918537874643 solar_power\n",
            "0.025679423023216113 club_access\n",
            "0.014569815033600947 backyard\n",
            "0.011111627953263384 kitchen\n",
            "0.008842681881401164 qlm_security\n",
            "0.00880264440934209 french_door\n",
            "0.006835670145069091 green_paint\n",
            "0.004697216394974974 bathroom\n"
          ]
        }
      ]
    },
    {
      "cell_type": "code",
      "source": [
        "keys = [k[1] for k in ranks_and_features ] [::-1]\n",
        "keys"
      ],
      "metadata": {
        "colab": {
          "base_uri": "https://localhost:8080/"
        },
        "id": "-TBvyp-5gALB",
        "outputId": "039b4684-1963-4fb9-e71f-282f1a78b52f"
      },
      "execution_count": 36,
      "outputs": [
        {
          "output_type": "execute_result",
          "data": {
            "text/plain": [
              "['bathroom',\n",
              " 'green_paint',\n",
              " 'french_door',\n",
              " 'qlm_security',\n",
              " 'kitchen',\n",
              " 'backyard',\n",
              " 'club_access',\n",
              " 'solar_power',\n",
              " 'woodfloor',\n",
              " 'furnished',\n",
              " 'room']"
            ]
          },
          "metadata": {},
          "execution_count": 36
        }
      ]
    },
    {
      "cell_type": "code",
      "source": [
        "values = [k[0] for k in ranks_and_features ][::-1]\n",
        "values"
      ],
      "metadata": {
        "colab": {
          "base_uri": "https://localhost:8080/"
        },
        "id": "H5fnNivLgMSx",
        "outputId": "50244ab5-a1c9-4baf-a0b0-548ad2ede8df"
      },
      "execution_count": 37,
      "outputs": [
        {
          "output_type": "execute_result",
          "data": {
            "text/plain": [
              "[0.004697216394974974,\n",
              " 0.006835670145069091,\n",
              " 0.00880264440934209,\n",
              " 0.008842681881401164,\n",
              " 0.011111627953263384,\n",
              " 0.014569815033600947,\n",
              " 0.025679423023216113,\n",
              " 0.11305918537874643,\n",
              " 0.17698472070507684,\n",
              " 0.19979487806969393,\n",
              " 0.42962213700561513]"
            ]
          },
          "metadata": {},
          "execution_count": 37
        }
      ]
    },
    {
      "cell_type": "code",
      "source": [
        "plt.barh(keys, values)"
      ],
      "metadata": {
        "colab": {
          "base_uri": "https://localhost:8080/",
          "height": 448
        },
        "id": "oM29Lt6bgOSG",
        "outputId": "c4153950-dfb9-4e4e-bd99-36cd24c95fc2"
      },
      "execution_count": 38,
      "outputs": [
        {
          "output_type": "execute_result",
          "data": {
            "text/plain": [
              "<BarContainer object of 11 artists>"
            ]
          },
          "metadata": {},
          "execution_count": 38
        },
        {
          "output_type": "display_data",
          "data": {
            "text/plain": [
              "<Figure size 640x480 with 1 Axes>"
            ],
            "image/png": "[encoded data removed]"
          },
          "metadata": {}
        }
      ]
    },
    {
      "cell_type": "markdown",
      "source": [
        "###KNN Regressor"
      ],
      "metadata": {
        "id": "nOMHdaRDcSg-"
      }
    },
    {
      "cell_type": "code",
      "source": [
        "from sklearn.neighbors import KNeighborsRegressor\n",
        "neigh = KNeighborsRegressor(n_neighbors=7)\n",
        "neigh.fit(train_X, train_Y)\n",
        "knn_predicted = neigh.predict(test_X)\n",
        "print(neigh.score(train_X, train_Y))\n",
        "print(mean_absolute_error(test_Y, knn_predicted))\n",
        "make_plot(test_Y, knn_predicted)"
      ],
      "metadata": {
        "colab": {
          "base_uri": "https://localhost:8080/",
          "height": 523
        },
        "id": "uNym4wfsgUQu",
        "outputId": "cd36c18f-7230-4be8-b98b-8b5653ee85be"
      },
      "execution_count": 39,
      "outputs": [
        {
          "output_type": "stream",
          "name": "stdout",
          "text": [
            "0.9471383275821861\n",
            "471.3446303446304\n"
          ]
        },
        {
          "output_type": "display_data",
          "data": {
            "text/plain": [
              "<Figure size 640x480 with 1 Axes>"
            ],
            "image/png": "[encoded data removed]"
          },
          "metadata": {}
        }
      ]
    },
    {
      "cell_type": "code",
      "source": [
        "knn_predicted"
      ],
      "metadata": {
        "colab": {
          "base_uri": "https://localhost:8080/"
        },
        "id": "WCTpwUWjzOcg",
        "outputId": "1a3b9599-46f8-4ba8-8f65-b5c1780a319b"
      },
      "execution_count": 76,
      "outputs": [
        {
          "output_type": "execute_result",
          "data": {
            "text/plain": [
              "array([ 5980.71428571,  7900.71428571, 10762.14285714,  8390.71428571,\n",
              "       10556.42857143, 11162.14285714, 12116.42857143,  7096.42857143,\n",
              "        7706.42857143,  6556.42857143,  9046.42857143,  7755.        ,\n",
              "        7437.85714286, 10613.57142857,  7707.85714286,  8995.        ,\n",
              "        8657.85714286, 12346.42857143,  9692.14285714,  7193.57142857,\n",
              "        9917.85714286,  8105.        ,  7413.57142857,  4830.71428571,\n",
              "        9769.28571429,  6119.28571429,  8193.57142857,  7463.57142857,\n",
              "        6460.71428571,  9169.28571429,  6453.57142857, 10012.14285714,\n",
              "        9477.85714286,  7257.85714286,  8440.71428571, 10712.14285714,\n",
              "        9192.14285714, 11393.57142857,  9127.85714286, 11697.85714286,\n",
              "        7166.42857143,  5425.        ,  9530.71428571,  8447.85714286,\n",
              "       11412.14285714,  5682.14285714,  4789.28571429, 11156.42857143,\n",
              "        9607.85714286,  6100.71428571, 11376.42857143, 10066.42857143,\n",
              "        5019.28571429,  7587.85714286, 11717.85714286,  9175.        ,\n",
              "        6927.85714286,  8365.        ,  9715.        ,  8519.28571429,\n",
              "        8695.        , 13183.57142857,  6940.71428571,  8995.        ,\n",
              "       12203.57142857,  8016.42857143, 10872.14285714, 10129.28571429,\n",
              "        9535.        ,  5575.        ,  7886.42857143, 11862.14285714,\n",
              "        4720.71428571,  6556.42857143,  9442.14285714,  8722.14285714,\n",
              "        7295.        , 11343.57142857, 10489.28571429,  9842.14285714,\n",
              "        8633.57142857,  7313.57142857, 11603.57142857,  8985.        ,\n",
              "       11373.57142857,  6902.14285714,  8867.85714286,  8206.42857143,\n",
              "        7142.14285714,  9202.14285714,  8025.        , 11865.        ,\n",
              "       11440.71428571,  7965.        ,  6453.57142857, 10529.28571429,\n",
              "       10459.28571429,  8233.57142857,  8395.        ,  8020.71428571,\n",
              "        7245.        ,  8397.85714286,  4999.28571429, 10272.14285714,\n",
              "        5462.14285714,  5452.14285714,  9787.85714286,  9592.14285714,\n",
              "        9033.57142857, 11442.14285714,  9240.71428571,  5733.57142857,\n",
              "        8985.        ,  6416.42857143,  9656.42857143,  9010.71428571,\n",
              "        9787.85714286,  7385.        ,  9606.42857143,  7083.57142857,\n",
              "        8200.71428571,  7893.57142857,  6212.14285714,  8393.57142857,\n",
              "       12355.        ,  9715.        , 11099.28571429,  5573.57142857,\n",
              "        5756.42857143,  5955.        ,  5003.57142857,  6375.        ,\n",
              "       10147.85714286,  6853.57142857, 10066.42857143,  6307.85714286,\n",
              "        5939.28571429, 10549.28571429,  7626.42857143,  9099.28571429,\n",
              "       10643.57142857,  9693.57142857,  6177.85714286,  7339.28571429,\n",
              "        8305.        , 10640.71428571,  5437.85714286,  6237.85714286,\n",
              "        6059.28571429,  9975.        , 12092.14285714,  8699.28571429,\n",
              "        9965.        ,  9625.        ,  8170.71428571, 11865.        ,\n",
              "        8309.28571429,  7509.28571429,  9556.42857143,  9785.        ,\n",
              "       11729.28571429,  8227.85714286, 10022.14285714,  6919.28571429,\n",
              "        9315.        ,  8373.57142857, 12082.14285714,  8106.42857143,\n",
              "       11412.14285714,  5503.57142857, 10112.14285714,  7613.57142857,\n",
              "       10595.        ,  5302.14285714,  6305.        ,  7769.28571429,\n",
              "        7967.85714286,  9453.57142857,  7150.71428571,  9870.71428571,\n",
              "       10746.42857143,  8579.28571429,  8633.57142857,  7517.85714286,\n",
              "        6430.71428571,  8792.14285714,  8217.85714286,  8030.71428571,\n",
              "        9397.85714286,  7852.14285714,  6556.42857143,  9225.        ,\n",
              "        6277.85714286,  7423.57142857,  6546.42857143,  7385.        ,\n",
              "       11563.57142857,  9365.        ,  5772.14285714, 10857.85714286,\n",
              "        8229.28571429,  7659.28571429, 12250.71428571,  6277.85714286,\n",
              "        8057.85714286,  8440.71428571, 10082.14285714,  8917.85714286,\n",
              "        9822.14285714, 12076.42857143,  9663.57142857,  8760.71428571,\n",
              "        8476.42857143,  7785.        ,  9866.42857143, 10585.        ,\n",
              "        9460.71428571,  6895.        ,  7176.42857143,  5613.57142857,\n",
              "       12047.85714286,  4753.57142857,  7477.85714286,  9436.42857143,\n",
              "        8882.14285714,  6487.85714286,  7577.85714286,  7232.14285714,\n",
              "        7083.57142857,  4966.42857143, 12473.57142857,  8012.14285714,\n",
              "        6507.85714286,  9396.42857143,  7056.42857143, 12935.        ,\n",
              "        9156.42857143, 10979.28571429,  8107.85714286,  6952.14285714,\n",
              "        6005.        ,  7635.        ,  7383.57142857,  8633.57142857,\n",
              "        9532.14285714, 10912.14285714,  8493.57142857, 10460.71428571,\n",
              "       10043.57142857,  8279.28571429,  9793.57142857,  8985.        ,\n",
              "        7242.14285714,  5512.14285714,  7212.14285714,  6910.71428571,\n",
              "        9092.14285714,  7762.14285714,  6837.85714286,  7445.        ,\n",
              "       11486.42857143, 10270.71428571,  5729.28571429,  9299.28571429,\n",
              "       11225.        ,  7599.28571429,  7009.28571429, 10512.14285714,\n",
              "        8957.85714286, 10487.85714286, 11016.42857143,  6169.28571429,\n",
              "        6539.28571429,  9572.14285714,  8155.        ,  9816.42857143,\n",
              "        9133.57142857,  4857.85714286, 10643.57142857,  8900.71428571,\n",
              "        3845.        ,  9637.85714286, 12153.57142857,  9579.28571429,\n",
              "        4993.57142857, 10242.14285714, 11957.85714286,  6780.71428571,\n",
              "        9806.42857143,  8847.85714286, 10630.71428571,  9360.71428571,\n",
              "       11350.71428571,  9255.        ,  9225.        , 10136.42857143,\n",
              "        9983.57142857,  6879.28571429,  8525.        , 10439.28571429,\n",
              "        8665.        , 11060.71428571,  8846.42857143,  8269.28571429,\n",
              "        7022.14285714,  7040.71428571,  9009.28571429, 10090.71428571,\n",
              "        7212.14285714, 10706.42857143, 10332.14285714, 10806.42857143,\n",
              "        6765.        ,  9389.28571429,  7932.14285714,  6030.71428571,\n",
              "        9225.        ,  8599.28571429,  9719.28571429,  7396.42857143,\n",
              "        8875.        ,  7352.14285714,  8619.28571429,  7736.42857143,\n",
              "        8852.14285714,  5705.        ,  9095.        ,  7400.71428571,\n",
              "        8566.42857143,  5896.42857143,  8050.71428571,  7736.42857143,\n",
              "        8567.85714286,  6480.71428571,  7626.42857143,  9735.        ,\n",
              "        7083.57142857, 11189.28571429,  8665.        ,  7172.14285714,\n",
              "        9803.57142857,  8105.        ,  4940.71428571, 11523.57142857,\n",
              "        8823.57142857, 11763.57142857,  9579.28571429, 10607.85714286,\n",
              "        6942.14285714,  5699.28571429, 11179.28571429, 10353.57142857,\n",
              "        4455.        ,  7947.85714286,  9910.71428571,  7337.85714286,\n",
              "        8100.71428571,  7970.71428571, 12276.42857143,  9033.57142857,\n",
              "        5286.42857143,  6879.28571429,  7577.85714286,  7575.        ,\n",
              "        8252.14285714,  8640.71428571,  6925.        ,  6335.        ,\n",
              "        6885.        ,  9062.14285714,  9355.        , 10540.71428571,\n",
              "        7429.28571429,  9286.42857143,  8243.57142857,  7870.71428571,\n",
              "        9247.85714286,  5343.57142857,  9793.57142857,  5273.57142857,\n",
              "        8597.85714286,  7726.42857143,  6502.14285714,  9047.85714286,\n",
              "        8127.85714286,  5999.28571429,  8427.85714286,  8265.        ,\n",
              "        4705.        ,  4252.14285714,  7953.57142857,  5676.42857143,\n",
              "       10950.71428571,  7829.28571429,  9349.28571429,  7993.57142857,\n",
              "        6085.        ,  7473.57142857,  8769.28571429,  7683.57142857,\n",
              "        8345.        ,  7463.57142857,  5305.        ,  8803.57142857,\n",
              "        9606.42857143, 10776.42857143, 10573.57142857,  8683.57142857,\n",
              "        7472.14285714,  7210.71428571,  8305.        ,  8760.71428571,\n",
              "        5117.85714286,  5802.14285714,  7840.71428571, 11879.28571429,\n",
              "        6987.85714286,  9997.85714286,  6627.85714286, 10893.57142857,\n",
              "        8627.85714286, 12049.28571429, 11446.42857143,  9092.14285714,\n",
              "       10453.57142857, 10759.28571429, 11407.85714286,  8193.57142857,\n",
              "       10003.57142857, 11299.28571429,  9362.14285714,  7042.14285714,\n",
              "       11827.85714286,  6209.28571429,  9203.57142857,  6792.14285714,\n",
              "       11100.71428571,  7685.        ,  6216.42857143,  7919.28571429,\n",
              "        6365.        ,  6025.        ,  8926.42857143,  8755.        ,\n",
              "        7353.57142857,  8875.        , 10467.85714286, 11736.42857143,\n",
              "        7909.28571429,  6913.57142857,  8527.85714286,  9737.85714286,\n",
              "        8706.42857143,  8212.14285714,  8617.85714286,  7680.71428571,\n",
              "        8782.14285714,  6506.42857143,  7653.57142857,  7587.85714286,\n",
              "        9336.42857143,  9535.        ,  5530.71428571,  6337.85714286,\n",
              "        7075.        ,  9662.14285714,  8507.85714286,  6580.71428571,\n",
              "        6496.42857143,  7837.85714286,  9176.42857143,  9552.14285714,\n",
              "        8420.71428571, 11343.57142857,  6857.85714286,  7947.85714286,\n",
              "        8560.71428571,  6229.28571429,  7276.42857143,  9073.57142857,\n",
              "        9076.42857143,  9022.14285714,  6869.28571429,  8785.        ,\n",
              "        6693.57142857,  9946.42857143,  5985.        , 10563.57142857,\n",
              "        7105.        ,  8402.14285714, 10097.85714286,  8402.14285714,\n",
              "        8419.28571429,  9255.        ,  6847.85714286,  5640.71428571,\n",
              "        8870.71428571,  6069.28571429, 10595.        ,  7759.28571429,\n",
              "       10219.28571429, 10506.42857143,  9047.85714286,  7105.        ,\n",
              "        8206.42857143,  7812.14285714,  8852.14285714,  8677.85714286,\n",
              "        9933.57142857,  9886.42857143,  8883.57142857,  9835.        ,\n",
              "        8040.71428571,  5525.        , 10267.85714286,  5913.57142857,\n",
              "       11157.85714286,  4806.42857143,  4567.85714286,  9397.85714286,\n",
              "       11849.28571429, 12857.85714286,  6277.85714286, 12412.14285714,\n",
              "       11439.28571429,  5917.85714286,  8366.42857143,  8185.        ,\n",
              "        8580.71428571,  9017.85714286, 10622.14285714,  4775.        ,\n",
              "        7765.        ,  9143.57142857,  9787.85714286,  7482.14285714,\n",
              "        5426.42857143,  8185.        , 10603.57142857,  9552.14285714,\n",
              "        6329.28571429, 10166.42857143,  7510.71428571, 11993.57142857,\n",
              "        6489.28571429, 11390.71428571, 11163.57142857,  8706.42857143,\n",
              "        7893.57142857,  5550.71428571,  3035.        , 12765.        ,\n",
              "       10383.57142857,  7705.        ,  6733.57142857, 12549.28571429,\n",
              "        8519.28571429,  8012.14285714, 11115.        ,  9440.71428571,\n",
              "        8860.71428571,  9875.        ,  7742.14285714,  9303.57142857,\n",
              "        4929.28571429,  5696.42857143, 11007.85714286,  6366.42857143,\n",
              "        7569.28571429,  4772.14285714,  8193.57142857,  5877.85714286,\n",
              "       10535.        ,  8019.28571429, 11086.42857143,  8845.        ,\n",
              "        8779.28571429,  7415.        ,  6795.        ,  6893.57142857,\n",
              "        9263.57142857, 11563.57142857,  7510.71428571,  8512.14285714,\n",
              "       10883.57142857,  9650.71428571, 11220.71428571, 10352.14285714,\n",
              "        8920.71428571,  9785.        ,  7953.57142857,  7265.        ,\n",
              "       10412.14285714,  6102.14285714, 10495.        ,  7503.57142857,\n",
              "        9192.14285714,  6087.85714286,  8957.85714286,  8936.42857143,\n",
              "        9839.28571429, 11556.42857143,  8430.71428571,  8365.        ,\n",
              "        4696.42857143,  9550.71428571,  8599.28571429,  6975.        ,\n",
              "        9685.        , 10802.14285714,  3886.42857143,  9143.57142857,\n",
              "       11190.71428571, 10277.85714286,  7437.85714286,  5877.85714286,\n",
              "       11723.57142857, 11690.71428571,  7423.57142857,  8183.57142857,\n",
              "        8217.85714286,  9723.57142857,  8796.42857143,  7243.57142857,\n",
              "        9215.        , 10516.42857143,  7665.        ,  8655.        ,\n",
              "        8673.57142857,  6809.28571429, 11456.42857143,  8179.28571429,\n",
              "        7965.        ,  8073.57142857,  7349.28571429,  8975.        ,\n",
              "        7913.57142857,  7359.28571429,  6270.71428571,  6263.57142857,\n",
              "       10727.85714286, 10427.85714286,  7992.14285714, 11726.42857143,\n",
              "        8983.57142857,  8896.42857143, 10693.57142857,  5759.28571429,\n",
              "        8642.14285714,  7410.71428571, 12256.42857143,  7590.71428571,\n",
              "        9317.85714286, 10346.42857143,  6375.        ,  7425.        ,\n",
              "        6522.14285714,  8410.71428571,  8547.85714286,  7253.57142857,\n",
              "        4496.42857143,  7317.85714286,  7953.57142857,  6266.42857143,\n",
              "       10103.57142857,  9905.        ,  7722.14285714,  6173.57142857,\n",
              "        6356.42857143, 10646.42857143,  8630.71428571, 11723.57142857,\n",
              "        7845.        ,  9536.42857143,  8217.85714286,  9905.        ,\n",
              "        6062.14285714,  5270.71428571, 11950.71428571,  9290.71428571,\n",
              "        8280.71428571, 10192.14285714,  7756.42857143,  9996.42857143,\n",
              "        3739.28571429,  8527.85714286, 10140.71428571,  7397.85714286,\n",
              "        6976.42857143,  9605.        ,  8635.        , 10066.42857143,\n",
              "       11839.28571429,  5147.85714286,  6969.28571429, 11269.28571429,\n",
              "        8165.        ,  8605.        , 10689.28571429,  6049.28571429,\n",
              "       10093.57142857, 10757.85714286,  7053.57142857,  8456.42857143,\n",
              "        7572.14285714,  6719.28571429,  8779.28571429,  9307.85714286,\n",
              "        4285.        , 10412.14285714,  9999.28571429, 12402.14285714,\n",
              "        9132.14285714,  5022.14285714, 10469.28571429,  5017.85714286,\n",
              "        9583.57142857,  8245.        ,  9042.14285714,  5452.14285714,\n",
              "        9285.        ,  6040.71428571,  8685.        ,  7339.28571429,\n",
              "        6836.42857143,  7649.28571429,  8693.57142857,  7933.57142857,\n",
              "       10940.71428571,  9872.14285714, 11417.85714286,  9462.14285714,\n",
              "        4686.42857143,  8916.42857143, 12035.        ,  8225.        ,\n",
              "        7259.28571429,  8317.85714286,  8823.57142857,  9816.42857143,\n",
              "        9613.57142857,  9149.28571429,  8509.28571429,  4603.57142857,\n",
              "        6430.71428571,  7519.28571429,  8723.57142857, 11296.42857143,\n",
              "        8596.42857143,  9783.57142857, 11122.14285714,  6743.57142857,\n",
              "        4299.28571429, 10352.14285714,  9372.14285714,  9303.57142857,\n",
              "        8197.85714286,  9786.42857143,  9402.14285714, 10055.        ,\n",
              "       10383.57142857, 10743.57142857, 10609.28571429,  5775.        ,\n",
              "        9659.28571429, 11466.42857143,  9337.85714286, 13389.28571429,\n",
              "        8993.57142857,  5813.57142857, 11436.42857143, 11343.57142857,\n",
              "        9283.57142857,  5222.14285714, 12082.14285714,  6412.14285714,\n",
              "       10300.71428571, 10552.14285714, 10357.85714286,  9192.14285714,\n",
              "        8785.        , 13196.42857143,  7446.42857143, 10955.        ,\n",
              "        6595.        ,  8482.14285714,  7026.42857143,  7465.        ,\n",
              "        8963.57142857,  9809.28571429,  6527.85714286,  7857.85714286,\n",
              "       10246.42857143,  8977.85714286,  7626.42857143,  6410.71428571,\n",
              "       13596.42857143, 10092.14285714,  8199.28571429,  8633.57142857,\n",
              "        8852.14285714,  6102.14285714,  5866.42857143,  6857.85714286,\n",
              "        9779.28571429,  7700.71428571,  7612.14285714,  9833.57142857,\n",
              "        9042.14285714, 11075.        ,  6053.57142857,  6987.85714286,\n",
              "        8089.28571429,  6883.57142857,  6212.14285714, 11323.57142857,\n",
              "        5559.28571429, 10502.14285714, 10045.        ,  7843.57142857,\n",
              "       10912.14285714, 11030.71428571, 10597.85714286,  9025.        ,\n",
              "       10042.14285714,  7286.42857143,  8316.42857143,  8103.57142857,\n",
              "        7075.        , 12349.28571429,  7553.57142857,  9629.28571429,\n",
              "        8376.42857143,  4137.85714286, 10220.71428571,  8802.14285714,\n",
              "        8527.85714286,  9857.85714286,  6472.14285714, 10517.85714286,\n",
              "        7210.71428571, 11140.71428571, 11393.57142857,  6403.57142857,\n",
              "       11632.14285714,  9653.57142857,  4689.28571429,  9123.57142857,\n",
              "        7655.        ,  5955.        , 11726.42857143,  8099.28571429,\n",
              "        9053.57142857, 10962.14285714,  8483.57142857,  9602.14285714,\n",
              "        9540.71428571,  6062.14285714,  7507.85714286,  6500.71428571,\n",
              "        8786.42857143,  6857.85714286, 11097.85714286,  9795.        ,\n",
              "       12705.        ,  6053.57142857,  6286.42857143,  5432.14285714,\n",
              "        4137.85714286, 10965.        ,  8342.14285714, 10519.28571429,\n",
              "        5149.28571429,  5547.85714286,  7406.42857143,  7407.85714286,\n",
              "        9339.28571429, 10477.85714286,  7882.14285714,  6459.28571429,\n",
              "        7485.        ,  9875.        ,  5927.85714286,  6356.42857143,\n",
              "        8140.71428571,  9966.42857143,  8850.71428571,  7017.85714286,\n",
              "        6022.14285714, 10196.42857143, 10896.42857143,  5830.71428571,\n",
              "        8529.28571429, 12086.42857143,  3743.57142857,  9997.85714286,\n",
              "       10692.14285714,  8312.14285714,  7562.14285714,  9320.71428571,\n",
              "        9439.28571429,  6483.57142857,  8517.85714286, 11220.71428571,\n",
              "        6052.14285714,  8717.85714286,  8787.85714286,  8929.28571429,\n",
              "        5203.57142857,  7186.42857143, 11726.42857143,  4933.57142857,\n",
              "        8425.        , 10175.        ,  7100.71428571, 10875.        ,\n",
              "        9323.57142857,  6595.        ,  7210.71428571,  5527.85714286,\n",
              "        8829.28571429, 10213.57142857,  8657.85714286,  8376.42857143,\n",
              "       11756.42857143,  8487.85714286,  9215.        ,  8333.57142857,\n",
              "        6026.42857143,  8287.85714286,  8006.42857143,  8222.14285714,\n",
              "        9570.71428571,  6995.        ,  9800.71428571,  9746.42857143,\n",
              "        5246.42857143, 10579.28571429,  6197.85714286,  7739.28571429,\n",
              "       10850.71428571, 12367.85714286, 12496.42857143, 11849.28571429,\n",
              "        9532.14285714,  6507.85714286,  9307.85714286, 10126.42857143,\n",
              "        8360.71428571, 13082.14285714,  8123.57142857,  8769.28571429,\n",
              "       10940.71428571, 11447.85714286,  6517.85714286,  5609.28571429,\n",
              "        8936.42857143,  6630.71428571, 10840.71428571, 12435.        ,\n",
              "        8152.14285714,  6539.28571429,  5890.71428571,  7795.        ,\n",
              "       12967.85714286,  9022.14285714,  9552.14285714,  6459.28571429,\n",
              "        6959.28571429, 10535.        , 11760.71428571, 11619.28571429,\n",
              "        9937.85714286,  9260.71428571,  8609.28571429,  8169.28571429,\n",
              "       10872.14285714,  9079.28571429,  7060.71428571,  5130.71428571,\n",
              "       11690.71428571,  9927.85714286,  8390.71428571,  4983.57142857,\n",
              "       10447.85714286,  5553.57142857,  3937.85714286,  7545.        ,\n",
              "       10573.57142857,  7152.14285714,  9569.28571429, 10749.28571429,\n",
              "       10760.71428571,  5927.85714286, 10142.14285714,  8993.57142857,\n",
              "        8923.57142857,  8753.57142857,  6995.        ])"
            ]
          },
          "metadata": {},
          "execution_count": 76
        }
      ]
    },
    {
      "cell_type": "code",
      "source": [
        "knn_predicted.mean()"
      ],
      "metadata": {
        "colab": {
          "base_uri": "https://localhost:8080/"
        },
        "id": "uKlUoHrbyO5I",
        "outputId": "a38399ca-b2fa-47fb-bca9-6f48eedf17dc"
      },
      "execution_count": 64,
      "outputs": [
        {
          "output_type": "execute_result",
          "data": {
            "text/plain": [
              "8558.843843843844"
            ]
          },
          "metadata": {},
          "execution_count": 64
        }
      ]
    },
    {
      "cell_type": "markdown",
      "source": [
        "###XGB Regressor"
      ],
      "metadata": {
        "id": "XGfdABv_c2n0"
      }
    },
    {
      "cell_type": "code",
      "source": [
        "import xgboost as xgb\n",
        "xgb_reg =  xgb.XGBRegressor().fit(train_X, train_Y)\n",
        "xgb_predicted = xgb_reg.predict(test_X)\n",
        "print(\"R-sqaured:\", xgb_reg.score(train_X, train_Y))\n",
        "print(\"Mean Absolute Error:\", mean_absolute_error(test_Y, xgb_predicted))\n",
        "xgb_importances = xgb_reg.feature_importances_\n",
        "xgb_ranks_and_features = zip(xgb_importances, rf_reg.feature_names_in_)\n",
        "xgb_ranks_and_features = sorted(xgb_ranks_and_features,reverse=True)\n",
        "print(\"\\nFeature Importances with XGBoost:\")\n",
        "for x, y in xgb_ranks_and_features:\n",
        "    print(x, y)"
      ],
      "metadata": {
        "colab": {
          "base_uri": "https://localhost:8080/"
        },
        "id": "GyhQV5qNhKQ1",
        "outputId": "c39637f1-b552-4943-e04c-daee37838c18"
      },
      "execution_count": 40,
      "outputs": [
        {
          "output_type": "stream",
          "name": "stdout",
          "text": [
            "R-sqaured: 0.9997084329328167\n",
            "Mean Absolute Error: 60.142959121230604\n",
            "\n",
            "Feature Importances with XGBoost:\n",
            "0.29977584 room\n",
            "0.241706 woodfloor\n",
            "0.2364698 furnished\n",
            "0.11214046 solar_power\n",
            "0.026595302 club_access\n",
            "0.019723801 backyard\n",
            "0.01696462 qlm_security\n",
            "0.014970071 kitchen\n",
            "0.011910282 french_door\n",
            "0.011131189 green_paint\n",
            "0.0086126365 bathroom\n"
          ]
        }
      ]
    },
    {
      "cell_type": "code",
      "source": [
        "xgb_predicted"
      ],
      "metadata": {
        "colab": {
          "base_uri": "https://localhost:8080/"
        },
        "id": "axYXEjMxzDFJ",
        "outputId": "0ef00c2c-b471-401f-eb99-93987bb9ee15"
      },
      "execution_count": 71,
      "outputs": [
        {
          "output_type": "execute_result",
          "data": {
            "text/plain": [
              "array([ 5148.416 ,  7656.7046, 11278.064 ,  8745.116 , 11127.099 ,\n",
              "       11222.3955, 11739.574 ,  6848.711 ,  7767.5234,  5909.1157,\n",
              "        9033.005 ,  8422.511 ,  6652.882 , 11309.728 ,  7162.8477,\n",
              "        9100.832 ,  8863.883 , 12851.478 ,  9680.847 ,  6732.82  ,\n",
              "        9311.709 ,  7718.399 ,  7035.023 ,  4374.608 ,  9984.954 ,\n",
              "        6940.473 ,  7280.7275,  8873.837 ,  6341.4707,  9618.7705,\n",
              "        6653.249 , 10322.769 , 10497.256 ,  8144.93  ,  7646.1826,\n",
              "       10347.003 ,  9462.381 , 11102.428 ,  9790.52  , 12912.751 ,\n",
              "        6383.6855,  5167.9097,  9914.373 ,  8879.723 , 11695.252 ,\n",
              "        6201.2173,  4218.778 , 11469.141 ,  9645.313 ,  5652.9897,\n",
              "       11424.627 , 10264.246 ,  4340.5767,  7817.545 , 12937.625 ,\n",
              "        9641.915 ,  6529.354 ,  8377.5205, 10059.843 ,  7821.1494,\n",
              "        8286.929 , 14146.023 ,  7092.825 ,  8442.184 , 12650.5205,\n",
              "        6948.8447, 11425.142 , 10575.425 , 10027.336 ,  5470.0005,\n",
              "        8214.382 , 12130.265 ,  4323.3804,  5942.8584,  9350.594 ,\n",
              "        9239.905 ,  7246.305 , 11398.693 , 10798.882 , 10688.608 ,\n",
              "        8757.562 ,  7433.7153, 11820.605 ,  8307.808 , 11861.255 ,\n",
              "        5937.9824,  8757.04  ,  8312.991 ,  7200.077 ,  8302.381 ,\n",
              "        7609.3286, 11994.134 , 11836.936 ,  7960.566 ,  6653.249 ,\n",
              "       10789.3   , 11212.431 ,  8394.205 ,  9308.986 ,  7484.5586,\n",
              "        7223.8096,  9009.6045,  4659.3745,  9761.499 ,  5730.9014,\n",
              "        5011.2812, 10624.8   ,  9730.0205,  8773.494 , 12492.677 ,\n",
              "        8106.1807,  6024.4395,  9166.812 ,  6623.5454,  9310.282 ,\n",
              "        9680.068 ,  9996.465 ,  7256.304 ,  9103.992 ,  7693.708 ,\n",
              "        8398.956 ,  7420.3247,  6592.302 ,  8648.732 , 12192.9375,\n",
              "       10142.063 , 10860.489 ,  5799.426 ,  5170.0728,  6044.466 ,\n",
              "        3923.237 ,  6225.9346,  9956.23  ,  6561.1323, 10962.884 ,\n",
              "        6531.471 ,  5001.524 , 11681.995 ,  8077.364 ,  9145.752 ,\n",
              "       10621.306 , 10296.772 ,  5663.582 ,  7557.376 ,  8908.597 ,\n",
              "       11351.946 ,  6087.1094,  7429.9067,  5233.953 , 10688.955 ,\n",
              "       12915.568 ,  9792.044 , 10306.926 , 11225.473 ,  8282.264 ,\n",
              "       11994.134 ,  7779.9053,  7882.3984, 10321.267 , 10141.026 ,\n",
              "       12039.786 ,  8694.605 , 10824.319 ,  6929.267 ,  9488.901 ,\n",
              "        9464.613 , 12317.149 ,  7326.9136, 11695.252 ,  5568.17  ,\n",
              "        9551.518 ,  8142.5684, 11039.206 ,  5569.2544,  6624.376 ,\n",
              "        7804.7227,  8245.255 ,  9745.589 ,  7829.7495, 10606.462 ,\n",
              "       11819.44  ,  8309.251 ,  8903.34  ,  8271.71  ,  5399.371 ,\n",
              "        9541.089 ,  8772.904 ,  8416.435 , 10111.638 ,  7664.112 ,\n",
              "        5942.8584,  8353.307 ,  5231.0835,  6390.437 ,  7256.4507,\n",
              "        7256.304 , 11822.829 ,  9846.582 ,  5774.522 , 11313.608 ,\n",
              "        9472.074 ,  7577.068 , 12966.731 ,  5231.0835,  7991.3086,\n",
              "        7951.942 , 10106.736 ,  8406.842 , 10295.761 , 11883.364 ,\n",
              "       10725.636 ,  8927.553 ,  8998.564 ,  8088.5244,  9169.2295,\n",
              "       11901.603 ,  9610.409 ,  7066.756 ,  6061.776 ,  5520.9956,\n",
              "       12636.807 ,  4018.837 ,  5821.511 ,  8755.347 ,  8803.988 ,\n",
              "        6241.118 ,  7844.5713,  6625.8496,  7693.708 ,  4668.4077,\n",
              "       12856.002 ,  7980.717 ,  7254.6274,  9188.796 ,  6241.272 ,\n",
              "       13630.631 ,  8961.178 , 10479.999 ,  8626.663 ,  6799.9546,\n",
              "        5538.659 ,  8069.8965,  7357.848 ,  8757.562 ,  8756.965 ,\n",
              "       11691.29  ,  9195.475 , 10961.645 , 11319.043 ,  7809.579 ,\n",
              "        9111.085 ,  8307.808 ,  6615.0864,  5495.654 ,  7324.5625,\n",
              "        6688.7173,  9635.905 ,  8028.6733,  5880.423 ,  6688.48  ,\n",
              "       11221.704 ,  9849.265 ,  5224.2847,  8965.389 , 11416.886 ,\n",
              "        6989.451 ,  7391.6553, 10664.186 ,  7774.498 , 11089.631 ,\n",
              "       11797.4795,  5426.31  ,  6494.158 ,  9615.579 ,  8429.981 ,\n",
              "        9375.682 ,  8766.398 ,  4130.8813, 10621.306 ,  8990.099 ,\n",
              "        2812.2258,  9806.032 , 12474.959 , 10479.051 ,  4750.8125,\n",
              "       11063.235 , 11884.783 ,  6410.6157,  9933.933 ,  9318.224 ,\n",
              "       11049.344 ,  9218.733 , 11336.002 ,  9451.567 ,  9368.159 ,\n",
              "       10022.111 ,  9178.779 ,  5271.4194,  9000.532 , 10634.669 ,\n",
              "        8810.894 , 11357.707 ,  8571.364 ,  8183.023 ,  6497.3354,\n",
              "        6991.7485,  9199.211 , 10404.47  ,  8489.502 , 10704.55  ,\n",
              "        9895.656 , 11596.598 ,  7401.9644,  9052.878 ,  8362.27  ,\n",
              "        5861.4106,  8353.307 ,  8436.514 ,  9738.855 ,  7748.102 ,\n",
              "        8213.05  ,  7442.447 ,  9738.915 ,  7517.6904,  9317.235 ,\n",
              "        6282.8647,  9453.937 ,  7464.627 ,  8250.5   ,  5987.363 ,\n",
              "        7821.634 ,  7700.9995,  8652.41  ,  5623.1133,  8140.152 ,\n",
              "        9694.101 ,  7306.1445, 11169.917 ,  7912.5425,  6624.3613,\n",
              "       10164.451 ,  7718.399 ,  4089.4084, 12405.115 ,  8201.746 ,\n",
              "       12688.59  ,  9077.468 ,  9986.813 ,  6875.21  ,  5803.529 ,\n",
              "       11698.79  , 11039.752 ,  4296.946 ,  7178.314 , 10097.98  ,\n",
              "        6478.3364,  7176.617 ,  9427.347 , 12513.857 ,  8773.494 ,\n",
              "        4738.3135,  6258.3413,  6670.0435,  8112.5723,  9529.121 ,\n",
              "        8917.765 ,  5501.0786,  5972.1606,  6929.4526,  8503.931 ,\n",
              "       10093.7   , 11508.634 ,  9293.272 ,  9378.043 ,  8402.906 ,\n",
              "        7851.14  ,  9514.185 ,  4574.2974,  9111.085 ,  4842.972 ,\n",
              "        8272.536 ,  7808.3105,  6944.023 ,  8683.389 ,  7078.3574,\n",
              "        5777.855 ,  8589.211 ,  8919.741 ,  4400.213 ,  3352.8235,\n",
              "        7762.3115,  5905.82  ,  9953.411 ,  7403.8887,  7964.9404,\n",
              "        7814.9194,  6289.993 ,  6845.9097,  8584.286 ,  8017.898 ,\n",
              "        7949.2393,  7372.723 ,  4827.11  ,  9198.149 ,  9103.992 ,\n",
              "       10693.415 , 10794.204 ,  8186.078 ,  7189.28  ,  7056.709 ,\n",
              "        8502.735 ,  9001.067 ,  5111.667 ,  4671.1562,  8322.058 ,\n",
              "       11788.154 ,  7119.946 , 10431.842 ,  6149.023 , 11554.772 ,\n",
              "        8601.277 , 12549.292 , 11607.349 ,  9384.562 , 11071.592 ,\n",
              "       12206.082 , 11670.248 ,  7888.787 , 10113.44  , 11294.731 ,\n",
              "        8717.007 ,  6744.397 , 13279.712 ,  6602.268 , 10101.184 ,\n",
              "        7296.3237, 11259.146 ,  6919.358 ,  5978.0625,  8276.726 ,\n",
              "        6849.3086,  5595.2256,  8511.639 ,  7870.71  ,  7746.717 ,\n",
              "        8891.815 , 10929.108 , 12848.7295,  8378.919 ,  6679.6255,\n",
              "        7555.0894,  9915.431 ,  7593.0967,  8405.345 ,  8196.508 ,\n",
              "        7187.192 ,  8815.708 ,  6408.244 ,  8201.025 ,  8235.116 ,\n",
              "        9735.749 ,  9580.406 ,  5091.8696,  5581.641 ,  6781.265 ,\n",
              "        9572.567 ,  8007.986 ,  7037.5884,  6417.768 ,  7189.597 ,\n",
              "        8346.466 ,  9750.542 ,  8612.582 , 10996.889 ,  5637.648 ,\n",
              "        8250.603 ,  9366.06  ,  6302.9023,  7506.4673,  9271.634 ,\n",
              "        9604.249 , 10225.786 ,  6818.477 ,  8018.68  ,  7435.499 ,\n",
              "        9713.98  ,  5317.0737, 11131.139 ,  7162.1787,  8528.059 ,\n",
              "       10817.308 ,  8528.059 ,  7382.456 ,  9523.275 ,  6069.0293,\n",
              "        5681.0312,  9099.487 ,  5463.993 , 11039.206 ,  8287.793 ,\n",
              "        9877.463 , 10538.012 ,  8683.389 ,  7133.491 ,  8312.991 ,\n",
              "        6880.5405,  8490.209 ,  9248.567 ,  9836.233 ,  9272.742 ,\n",
              "        8704.412 , 10313.754 ,  8871.174 ,  5890.4795,  9969.96  ,\n",
              "        5614.211 , 11933.12  ,  3622.798 ,  4084.3901,  9531.925 ,\n",
              "       12624.981 , 13697.968 ,  6362.4736, 12711.27  , 12286.2295,\n",
              "        5959.439 ,  8374.073 ,  9153.888 ,  8258.246 ,  9432.527 ,\n",
              "       11198.629 ,  4296.87  ,  7413.4155,  9402.467 ,  9616.579 ,\n",
              "        7532.3066,  5296.008 ,  9153.888 , 10591.878 ,  9862.712 ,\n",
              "        6862.528 , 10829.34  ,  7302.8794, 13052.66  ,  6168.3755,\n",
              "       11848.567 , 12049.571 ,  7593.0967,  7420.3247,  5522.6147,\n",
              "        2669.4622, 13468.743 , 10213.489 ,  8021.283 ,  6823.698 ,\n",
              "       12209.457 ,  8426.338 ,  7980.717 , 12051.304 ,  9939.308 ,\n",
              "        9434.685 , 10230.023 ,  7489.168 ,  9340.981 ,  4210.2383,\n",
              "        5498.6353, 10893.335 ,  6045.6353,  7589.2334,  4448.194 ,\n",
              "        7888.787 ,  5780.291 , 10333.69  ,  8739.817 , 11317.975 ,\n",
              "        8651.271 ,  8465.793 ,  7592.926 ,  6424.5283,  6883.6953,\n",
              "        8670.571 , 11822.829 ,  7752.8813,  8766.21  ,  9948.043 ,\n",
              "        9125.602 , 11369.253 ,  9690.724 ,  9543.463 , 10141.026 ,\n",
              "        9309.949 ,  6807.8003, 10314.261 ,  6573.002 , 10594.899 ,\n",
              "        6764.4727,  8284.465 ,  5851.6387,  7774.498 , 10017.    ,\n",
              "        9565.793 , 11841.088 ,  7639.1924,  8377.5205,  4009.8347,\n",
              "        8751.315 ,  8564.878 ,  7415.7456,  9776.433 , 11206.155 ,\n",
              "        2940.4634,  9402.467 , 12612.172 ,  9979.985 ,  6652.882 ,\n",
              "        5780.291 , 11977.494 , 12517.797 ,  7038.7876,  8704.527 ,\n",
              "        9196.78  ,  9160.589 ,  9633.561 ,  7858.1987,  9369.046 ,\n",
              "       10804.438 ,  7824.463 ,  8252.811 ,  8718.835 ,  6646.578 ,\n",
              "       12092.03  ,  8821.322 ,  8179.5   ,  7712.278 ,  7823.493 ,\n",
              "        9493.23  ,  7386.1724,  6625.8037,  5902.995 ,  5724.852 ,\n",
              "       10787.847 , 10199.383 ,  6987.545 , 11979.939 ,  8850.214 ,\n",
              "        8052.395 , 11174.448 ,  5621.379 ,  9450.014 ,  6360.98  ,\n",
              "       12864.19  ,  7990.889 ,  9066.004 , 10564.403 ,  6218.8735,\n",
              "        6957.9478,  6086.345 ,  8198.289 ,  9782.699 ,  7031.2993,\n",
              "        3789.9065,  8237.491 ,  8458.016 ,  5564.783 , 10975.054 ,\n",
              "        8989.768 ,  7403.451 ,  4847.4434,  6471.877 , 11190.28  ,\n",
              "        8379.15  , 11977.494 ,  7299.551 ,  9748.5205,  9196.78  ,\n",
              "        9625.954 ,  4750.324 ,  4559.685 , 11708.037 ,  9168.676 ,\n",
              "        8323.191 , 10243.398 ,  7978.4595, 10472.262 ,  3263.545 ,\n",
              "        7555.0894,  9700.506 ,  7426.853 ,  7000.12  ,  8711.05  ,\n",
              "        9089.605 , 10962.884 , 11898.783 ,  4820.993 ,  7284.1543,\n",
              "       11421.02  ,  8088.715 ,  8892.9   , 10165.497 ,  5106.7314,\n",
              "       10785.173 , 10976.79  ,  7194.656 ,  8577.536 ,  8100.4966,\n",
              "        6700.3003,  8465.793 ,  9132.019 ,  3991.4143, 10314.261 ,\n",
              "       10368.541 , 12458.614 ,  8850.244 ,  4679.3857, 10445.784 ,\n",
              "        5097.8857,  9134.255 ,  6828.214 ,  8969.053 ,  5011.2812,\n",
              "        9010.065 ,  6051.039 ,  9339.995 ,  7557.376 ,  5437.9365,\n",
              "        8102.557 ,  8424.876 ,  7953.0024, 10855.467 , 10248.932 ,\n",
              "       11755.144 , 10435.596 ,  3546.7188,  9568.31  , 13048.9795,\n",
              "        8608.386 ,  7724.0137,  9262.221 ,  8201.746 , 10027.249 ,\n",
              "       10570.247 ,  8717.463 ,  8537.741 ,  3319.4219,  5399.371 ,\n",
              "        7850.741 ,  8994.096 , 11450.95  ,  8338.878 , 11062.867 ,\n",
              "       11611.418 ,  6863.099 ,  3625.5972,  9690.724 , 10288.851 ,\n",
              "        9340.981 ,  8194.233 , 10331.711 ,  9618.931 ,  9985.137 ,\n",
              "       10213.489 , 11246.966 , 10706.811 ,  6073.449 , 10000.8955,\n",
              "       11962.934 ,  8635.087 , 14002.096 ,  9773.116 ,  5667.27  ,\n",
              "       11301.608 , 10996.889 ,  9871.452 ,  4418.6626, 12317.149 ,\n",
              "        7041.747 , 10425.063 , 11502.971 , 11110.903 ,  9392.183 ,\n",
              "        8018.68  , 13845.098 ,  7530.686 , 10530.821 ,  7138.4473,\n",
              "        8132.6226,  7314.476 ,  7214.4785,  9077.649 ,  9901.623 ,\n",
              "        6810.034 ,  7794.2515, 10249.046 ,  9575.926 ,  6289.2163,\n",
              "        6432.985 , 14130.669 ,  9024.3955,  8483.729 ,  8903.34  ,\n",
              "        8490.209 ,  6421.669 ,  5603.1978,  5637.648 ,  9187.674 ,\n",
              "        7958.3623,  8441.144 , 10324.33  ,  8969.053 , 11645.908 ,\n",
              "        5737.145 ,  7119.946 ,  8702.095 ,  7012.264 ,  6346.5063,\n",
              "       12202.759 ,  5893.3604, 11354.064 , 10385.021 ,  8362.56  ,\n",
              "       11849.151 , 11370.292 , 11735.019 ,  9088.055 , 10182.921 ,\n",
              "        7057.068 ,  8489.783 ,  7850.9595,  6786.8438, 12095.258 ,\n",
              "        7537.0103,  9987.408 ,  7254.677 ,  3415.5886,  9765.732 ,\n",
              "        7851.478 ,  8352.358 ,  9553.825 ,  6126.9824, 10248.905 ,\n",
              "        6804.0024, 10987.04  , 11102.428 ,  6562.178 , 11822.597 ,\n",
              "        9978.367 ,  5113.6846,  9508.344 ,  7381.996 ,  4616.415 ,\n",
              "       11979.939 ,  8240.018 ,  8889.305 , 11160.887 ,  8477.316 ,\n",
              "        9666.57  ,  9328.429 ,  5891.6475,  7392.6567,  5955.5435,\n",
              "        8012.462 ,  5637.648 , 11860.554 ,  8999.764 , 13383.969 ,\n",
              "        5737.145 ,  5970.9976,  5393.8315,  3415.5886, 10016.483 ,\n",
              "        8643.066 , 11261.086 ,  4648.928 ,  6011.03  ,  7352.4277,\n",
              "        6577.477 ,  9728.25  , 11359.196 ,  7877.286 ,  5665.343 ,\n",
              "        7534.792 ,  9590.139 ,  5442.4214,  6471.877 ,  8092.8833,\n",
              "        9590.407 ,  8313.091 ,  6877.3765,  6915.422 , 10291.624 ,\n",
              "       11513.853 ,  5207.645 ,  8652.277 , 12902.515 ,  3604.8787,\n",
              "       10713.851 , 11775.803 ,  8293.549 ,  7271.038 ,  9270.53  ,\n",
              "       10058.001 ,  6594.256 ,  9720.387 , 11369.253 ,  7560.83  ,\n",
              "        7982.215 , 10015.539 ,  9265.514 ,  4287.0264,  8071.061 ,\n",
              "       12661.857 ,  4468.706 ,  7580.662 , 10243.654 ,  7640.622 ,\n",
              "       10537.877 ,  9601.931 ,  6904.3677,  7056.709 ,  5026.6577,\n",
              "        8110.079 ,  9336.059 ,  8836.738 ,  8299.569 , 13475.369 ,\n",
              "        7726.2275,  8988.845 ,  8851.604 ,  5861.8374,  9540.569 ,\n",
              "        8549.813 ,  8914.551 ,  9828.1875,  7049.1875,  9849.678 ,\n",
              "        9777.437 ,  5013.8237, 11615.129 ,  5888.1133,  6921.388 ,\n",
              "       11310.12  , 12684.082 , 13367.876 , 12504.326 ,  8756.965 ,\n",
              "        7254.6274,  9653.268 , 10830.49  ,  7947.6157, 13991.963 ,\n",
              "        8142.8994,  8584.286 , 10783.585 , 11495.149 ,  5559.2505,\n",
              "        5330.3086, 10017.    ,  6928.9224, 11098.057 , 12828.663 ,\n",
              "        8714.501 ,  7261.133 ,  5654.873 ,  8250.711 , 13793.408 ,\n",
              "        9178.472 ,  9862.712 ,  5665.343 ,  6207.9478, 10486.678 ,\n",
              "       13139.009 , 12103.245 ,  9637.404 ,  9575.966 ,  8654.149 ,\n",
              "        8790.857 , 11425.142 ,  8241.942 ,  6587.3965,  4937.3257,\n",
              "       12517.797 , 10552.387 ,  8314.03  ,  5006.258 ,  9563.296 ,\n",
              "        5485.4795,  2813.8074,  7602.7334, 10911.991 ,  6650.543 ,\n",
              "       10048.289 , 11776.5625, 10020.583 ,  5442.4214,  9970.373 ,\n",
              "        9773.116 ,  9389.593 ,  8573.99  ,  6250.589 ], dtype=float32)"
            ]
          },
          "metadata": {},
          "execution_count": 71
        }
      ]
    },
    {
      "cell_type": "code",
      "source": [
        "xgb_predicted.mean()"
      ],
      "metadata": {
        "colab": {
          "base_uri": "https://localhost:8080/"
        },
        "id": "DYi2amO7dGxb",
        "outputId": "f52ab7ac-f0b1-4b08-e232-e51bac1adf6f"
      },
      "execution_count": 67,
      "outputs": [
        {
          "output_type": "execute_result",
          "data": {
            "text/plain": [
              "8590.755"
            ]
          },
          "metadata": {},
          "execution_count": 67
        }
      ]
    },
    {
      "cell_type": "code",
      "source": [
        "make_plot(test_Y, xgb_predicted)"
      ],
      "metadata": {
        "colab": {
          "base_uri": "https://localhost:8080/",
          "height": 487
        },
        "id": "qF82aakihaX-",
        "outputId": "d9992979-93dc-47f9-82f1-79e0c73650de"
      },
      "execution_count": 41,
      "outputs": [
        {
          "output_type": "display_data",
          "data": {
            "text/plain": [
              "<Figure size 640x480 with 1 Axes>"
            ],
            "image/png": "[encoded data removed]"
          },
          "metadata": {}
        }
      ]
    },
    {
      "cell_type": "markdown",
      "source": [
        "###Plotting the Mean Absolute Error of all algorithms"
      ],
      "metadata": {
        "id": "p7ToGnfQhjlG"
      }
    },
    {
      "cell_type": "code",
      "source": [
        "lin_mae = mean_absolute_error(test_Y, predicted)\n",
        "knn_mae = mean_absolute_error(test_Y, knn_predicted)\n",
        "rf_mae = mean_absolute_error(test_Y, rf_predicted)\n",
        "xgb_mae = mean_absolute_error(test_Y, xgb_predicted)\n",
        "errors = [lin_mae, knn_mae, rf_mae, xgb_mae]\n",
        "labels = [\"LinearReg\", \"KNNReg\", \"RFReg\", \"XGBReg\"]\n",
        "bars = plt.bar(labels, errors, width=0.4)\n",
        "for bar in bars:\n",
        "    yval = int(bar.get_height())\n",
        "    plt.text(bar.get_x(), yval + .005, yval)\n",
        "#plt.grid()\n",
        "plt.title(\"MAE for various regression algorithms\")"
      ],
      "metadata": {
        "colab": {
          "base_uri": "https://localhost:8080/",
          "height": 471
        },
        "id": "fuzXAuoShvWY",
        "outputId": "0fa1e4e7-bfab-4cc5-c156-9a81a08ef2c2"
      },
      "execution_count": 42,
      "outputs": [
        {
          "output_type": "execute_result",
          "data": {
            "text/plain": [
              "Text(0.5, 1.0, 'MAE for various regression algorithms')"
            ]
          },
          "metadata": {},
          "execution_count": 42
        },
        {
          "output_type": "display_data",
          "data": {
            "text/plain": [
              "<Figure size 640x480 with 1 Axes>"
            ],
            "image/png": "[encoded data removed]"
          },
          "metadata": {}
        }
      ]
    }
  ]
}